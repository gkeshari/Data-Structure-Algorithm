{
 "cells": [
  {
   "cell_type": "markdown",
   "metadata": {},
   "source": [
    "# Big_O_Notation(Time n Space complexity) Arrays, LinkedList, HashMap, #Stack, Queue, Tree, BinaryTree, Graph"
   ]
  },
  {
   "cell_type": "code",
   "execution_count": 1,
   "metadata": {},
   "outputs": [],
   "source": [
    "# Arrays"
   ]
  },
  {
   "cell_type": "code",
   "execution_count": 1,
   "metadata": {},
   "outputs": [
    {
     "name": "stdout",
     "output_type": "stream",
     "text": [
      "array('i', [4, 3, 2, 1])\n",
      "(2002188611760, 4)\n",
      "i\n"
     ]
    }
   ],
   "source": [
    "from array import *\n",
    "\n",
    "vals = array('i',[1,2,3,4])\n",
    "vals.append(5)\n",
    "vals.remove(5)\n",
    "vals.reverse()\n",
    "print(vals)\n",
    "print(vals.buffer_info())\n",
    "print(vals.typecode)"
   ]
  },
  {
   "cell_type": "code",
   "execution_count": 2,
   "metadata": {},
   "outputs": [
    {
     "name": "stdout",
     "output_type": "stream",
     "text": [
      "8\n",
      "2\n",
      "4\n",
      "6\n",
      "8\n"
     ]
    }
   ],
   "source": [
    "arr = array('i',[2,4,6,8])\n",
    "print(arr[3])\n",
    "for i in range(len(arr)):\n",
    "    print(arr[i])"
   ]
  },
  {
   "cell_type": "code",
   "execution_count": 3,
   "metadata": {},
   "outputs": [
    {
     "name": "stdout",
     "output_type": "stream",
     "text": [
      "array('u', 'aeiou')\n",
      "a\n",
      "e\n",
      "i\n",
      "o\n",
      "u\n"
     ]
    }
   ],
   "source": [
    "strg = array('u',['a','e','i','o','u'])\n",
    "print(strg)\n",
    "for i in strg:\n",
    "    print(i)"
   ]
  },
  {
   "cell_type": "code",
   "execution_count": 4,
   "metadata": {},
   "outputs": [
    {
     "data": {
      "text/plain": [
       "array('i', [4, 16, 36, 64])"
      ]
     },
     "execution_count": 4,
     "metadata": {},
     "output_type": "execute_result"
    }
   ],
   "source": [
    "newarr = array(arr.typecode, (a*a for a in arr))\n",
    "newarr"
   ]
  },
  {
   "cell_type": "code",
   "execution_count": 5,
   "metadata": {},
   "outputs": [
    {
     "name": "stdout",
     "output_type": "stream",
     "text": [
      "Entr a no to find the factorial : 5\n",
      "FActorial of  5  is :  120\n"
     ]
    }
   ],
   "source": [
    "# q. write a code to find the factorial of a given number.\n",
    "\n",
    "def factorial(n):\n",
    "    if n==0:\n",
    "        return 1\n",
    "    else:\n",
    "        return n*factorial(n-1)\n",
    "x = int(input(\"Entr a no to find the factorial : \"))\n",
    "print(\"FActorial of \",x,\" is : \",factorial(x))"
   ]
  },
  {
   "cell_type": "code",
   "execution_count": 6,
   "metadata": {},
   "outputs": [
    {
     "name": "stdout",
     "output_type": "stream",
     "text": [
      "sorted arr using bubble sort :  array('i', [2, 5, 7, 9, 12, 23, 54, 64, 74])\n",
      "sorted arr using selection sort :  array('i', [2, 5, 7, 9, 12, 23, 54, 64, 74])\n"
     ]
    }
   ],
   "source": [
    "# q. write a code to sort the array in ascending order?\n",
    "\n",
    "# bubble sort\n",
    "\n",
    "sortarr = array('i',[5,7,2,9,12,64,74,23,54])\n",
    "def bubblesort(sortarr):\n",
    "    for i in range(len(sortarr)-1,0,-1):\n",
    "        for j in range(i):\n",
    "            if sortarr[j]>sortarr[j+1]:\n",
    "                sortarr[j],sortarr[j+1] = sortarr[j+1],sortarr[j]\n",
    "    return sortarr\n",
    "sortedarr = bubblesort(sortarr)\n",
    "print(\"sorted arr using bubble sort : \",sortedarr)\n",
    "\n",
    "\n",
    "# selection sort\n",
    "\n",
    "\n",
    "select_sort = array('i',[5,7,2,9,12,64,74,23,54])\n",
    "\n",
    "def selection_sort(select_sort):\n",
    "    for i in range(0,len(select_sort)-1,1):\n",
    "        pos = i\n",
    "        for j in range(i,len(select_sort)):\n",
    "            if select_sort[pos]>select_sort[j]:\n",
    "                pos=j\n",
    "        select_sort[pos],select_sort[i] = select_sort[i],select_sort[pos]  \n",
    "        \n",
    "    return select_sort\n",
    "sortedarray = selection_sort(select_sort)\n",
    "print(\"sorted arr using selection sort : \",sortedarray)\n"
   ]
  },
  {
   "cell_type": "code",
   "execution_count": 6,
   "metadata": {},
   "outputs": [
    {
     "name": "stdout",
     "output_type": "stream",
     "text": [
      "Unsorted seq :  [5, 2, 6, 8, 45, 6, 32, 42, 11, 36, 74, 85, 77, 86, 93, 65, 21]\n",
      "Sorted seq :  [2, 5, 6, 6, 8, 11, 21, 32, 36, 42, 45, 65, 74, 77, 85, 86, 93]\n"
     ]
    }
   ],
   "source": [
    "# quick sort\n",
    "\n",
    "def quick_sort(seq):\n",
    "    length = len(seq)\n",
    "    if length <= 1:\n",
    "        return seq\n",
    "    else:\n",
    "        pivot = seq.pop()\n",
    "        \n",
    "    left_items = []\n",
    "    right_items = []\n",
    "    \n",
    "    for item in seq:\n",
    "        if item < pivot:\n",
    "            left_items.append(item)\n",
    "        else:\n",
    "            right_items.append(item)\n",
    "    return quick_sort(left_items) + [pivot] + quick_sort(right_items)  \n",
    "\n",
    "lst = [5,2,6,8,45,6,32,42,11,36,74,85,77,86,93,65,21]\n",
    "print(\"Unsorted seq : \", lst)\n",
    "print(\"Sorted seq : \", quick_sort(lst))\n",
    "        \n",
    "    \n",
    "\n"
   ]
  },
  {
   "cell_type": "code",
   "execution_count": 6,
   "metadata": {},
   "outputs": [
    {
     "name": "stdout",
     "output_type": "stream",
     "text": [
      "unsorted_list :  [5, 3, 6, 2, 9, 1, 23, 43, 55, 65, 32]\n",
      "sorted_list :  [1, 2, 3, 5, 6, 9, 23, 32, 43, 55, 65]\n"
     ]
    }
   ],
   "source": [
    "# Insertion sort\n",
    "\n",
    "\n",
    "def insertion_sort(lst):\n",
    "    length = len(lst)\n",
    "    for i in range(1,length):\n",
    "        value_to_sort = lst[i]\n",
    "        while value_to_sort < lst[i-1] and i > 0:\n",
    "            lst[i],lst[i-1] = lst[i-1],lst[i]\n",
    "            i = i-1\n",
    "    return lst        \n",
    "\n",
    "unsorted_list = [5,3,6,2,9,1,23,43,55,65,32]\n",
    "print(\"unsorted_list : \",unsorted_list)\n",
    "print(\"sorted_list : \",insertion_sort(unsorted_list))\n",
    "\n",
    "\n",
    "\n"
   ]
  },
  {
   "cell_type": "code",
   "execution_count": 14,
   "metadata": {},
   "outputs": [
    {
     "name": "stdout",
     "output_type": "stream",
     "text": [
      "Unsorted :  [7, 3, 2, 6, 4, 76, 54, 89, 43, 50]\n",
      "Sorted :  [2, 3, 4, 6, 7, 43, 50, 54, 76, 89]\n"
     ]
    }
   ],
   "source": [
    "# Merge sort\n",
    "\n",
    "def merge_sort(sequence):\n",
    "    if len(sequence) <= 1:\n",
    "        return sequence\n",
    "    if len(sequence) >1:    \n",
    "        mid = len(sequence)//2\n",
    "        left = sequence[:mid]\n",
    "        right = sequence[mid:]\n",
    "        merge_sort(left)\n",
    "        merge_sort(right)\n",
    "        i=0\n",
    "        j=0\n",
    "        k=0\n",
    "        while i < len(left) and j < len(right):\n",
    "            if left[i] < right[j]:\n",
    "                sequence[k] = left[i]\n",
    "                i = i+1\n",
    "            else:\n",
    "                sequence[k] = right[j]\n",
    "                j = j+1\n",
    "            k = k+1   \n",
    "        \n",
    "        while i < len(left):\n",
    "            sequence[k] = left[i]\n",
    "            i = i+1\n",
    "            k = k+1\n",
    "        while j < len(right):\n",
    "            sequence[k] = right[j]\n",
    "            j = j+1\n",
    "            k = k+1\n",
    "        return sequence\n",
    "\n",
    "unmerged = [7,3,2,6,4,76,54,89,43,50]\n",
    "print(\"Unsorted : \",unmerged)\n",
    "print(\"Sorted : \",merge_sort(unmerged))\n",
    "\n",
    "\n",
    "\n"
   ]
  },
  {
   "cell_type": "code",
   "execution_count": 7,
   "metadata": {},
   "outputs": [
    {
     "name": "stdout",
     "output_type": "stream",
     "text": [
      "array('i', [5, 7, 9, 12])\n"
     ]
    }
   ],
   "source": [
    "# q. create an array with 5 values & delete the value at index no. 2 without using in-built function.\n",
    "\n",
    "b = array('i',[])\n",
    "a = array('i',[5,7,15,9,12])\n",
    "for i in range(len(a)):\n",
    "    if i==2:\n",
    "        continue\n",
    "    else:\n",
    "        b.append(a[i])\n",
    "print(b)        "
   ]
  },
  {
   "cell_type": "code",
   "execution_count": 8,
   "metadata": {},
   "outputs": [
    {
     "name": "stdout",
     "output_type": "stream",
     "text": [
      "array('i', [12, 9, 15, 7, 5])\n"
     ]
    }
   ],
   "source": [
    "# imp q.\n",
    "# q. write a code to reverse an array without using an in-built function\n",
    "\n",
    "# method  1 : loop (iterative way).  time complexity O(n)\n",
    "\n",
    "r = array('i',[5,7,15,9,12])\n",
    "L = len(r)\n",
    "for i in range(int(L/2)):\n",
    "    r[i],r[L-i-1] = r[L-i-1],r[i]\n",
    "    \n",
    "print(r)    "
   ]
  },
  {
   "cell_type": "code",
   "execution_count": 9,
   "metadata": {},
   "outputs": [
    {
     "name": "stdout",
     "output_type": "stream",
     "text": [
      "array('i', [9, 15, 7, 5])\n"
     ]
    }
   ],
   "source": [
    "# method 2 : recursion (recursive way)\n",
    "\n",
    "g = array('i',[5,7,15,9])\n",
    "def reverse(g):\n",
    "\n",
    "    if len(g)==1:\n",
    "        return g\n",
    "    \n",
    "    return reverse(g[1:])+g[0:1]\n",
    "    \n",
    "print(reverse(g))    "
   ]
  },
  {
   "cell_type": "code",
   "execution_count": 10,
   "metadata": {},
   "outputs": [
    {
     "name": "stdout",
     "output_type": "stream",
     "text": [
      "array('i', [9, 15, 7, 5])\n"
     ]
    }
   ],
   "source": [
    "# another way   # optional\n",
    "\n",
    "def reverseArr(a, start, end):\n",
    "    if start>=end:\n",
    "        return\n",
    "    a[start],a[end]=a[end],a[start]\n",
    "    reverseArr(a,start+1,end-1)\n",
    "g = array('i',[5,7,15,9])\n",
    "start = 0\n",
    "end = len(g)-1\n",
    "reverseArr(g,start,end)\n",
    "print(g)"
   ]
  },
  {
   "cell_type": "code",
   "execution_count": 14,
   "metadata": {},
   "outputs": [
    {
     "name": "stdout",
     "output_type": "stream",
     "text": [
      "entr a no. : 50009\n",
      "90005\n"
     ]
    }
   ],
   "source": [
    "# q. write a program to reverse digits of a number\n",
    "\n",
    "n = int(input(\"entr a no. : \"))\n",
    "rev = 0\n",
    "while n>0:\n",
    "    rev = rev*10+(n%10)\n",
    "    n=n//10\n",
    "print(rev)    \n",
    "    "
   ]
  },
  {
   "cell_type": "code",
   "execution_count": 4,
   "metadata": {},
   "outputs": [
    {
     "name": "stdout",
     "output_type": "stream",
     "text": [
      "150\n",
      "7150\n",
      "False\n"
     ]
    }
   ],
   "source": [
    "ls = [2200,2350,2600,2130,2190]\n",
    "print(ls[1]-ls[0])\n",
    "sum = 0\n",
    "for i in range(3):\n",
    "    sum = sum+ls[i]\n",
    "print(sum)    \n",
    "    \n",
    "print(2000 in ls)  \n"
   ]
  },
  {
   "cell_type": "code",
   "execution_count": 11,
   "metadata": {},
   "outputs": [
    {
     "data": {
      "text/plain": [
       "['black panther',\n",
       " 'captain america',\n",
       " 'doctor strange',\n",
       " 'iron man',\n",
       " 'spider man']"
      ]
     },
     "execution_count": 11,
     "metadata": {},
     "output_type": "execute_result"
    }
   ],
   "source": [
    "heros = ['spider man','thor','hulk','iron man', 'captain america']\n",
    "heros.append('black panther')\n",
    "heros.remove('black panther')\n",
    "heros.insert(3,'black panther')\n",
    "heros[1:3]=['doctor strange']\n",
    "heros.sort()\n",
    "heros"
   ]
  },
  {
   "cell_type": "code",
   "execution_count": 19,
   "metadata": {},
   "outputs": [
    {
     "name": "stdout",
     "output_type": "stream",
     "text": [
      "1000\n"
     ]
    }
   ],
   "source": [
    "# Arbitrary Precision increment\n",
    "# A = 149\n",
    "# output = 150\n",
    "\n",
    "A = [9,9,9]\n",
    "d = \"\"\n",
    "for i in range(len(A)):\n",
    "    d += \"\".join(str(A[i]))\n",
    "\n",
    "print(int(d)+1)"
   ]
  },
  {
   "cell_type": "code",
   "execution_count": 26,
   "metadata": {},
   "outputs": [
    {
     "name": "stdout",
     "output_type": "stream",
     "text": [
      "130\n"
     ]
    }
   ],
   "source": [
    "# M2\n",
    "B = [1,9,9]\n",
    "p = \"\".join(map(str,B))\n",
    "print(int(p)+1)"
   ]
  },
  {
   "cell_type": "code",
   "execution_count": 27,
   "metadata": {},
   "outputs": [
    {
     "name": "stdout",
     "output_type": "stream",
     "text": [
      "[1, 3, 0]\n"
     ]
    }
   ],
   "source": [
    "# M3 \n",
    "\n",
    "C = [2,9,9]\n",
    "def plus_one(C):\n",
    "    C[-1] += 1\n",
    "    for i in reversed(range(1, len(C))):\n",
    "        if C[i] != 10:\n",
    "            break\n",
    "        C[i] = 0\n",
    "        C[i-1] += 1\n",
    "    if C[0] == 10:\n",
    "        C[0] = 1\n",
    "        C.append(0)\n",
    "    return C    \n",
    "    \n",
    "    \n",
    "print(plus_one(C))    "
   ]
  },
  {
   "cell_type": "code",
   "execution_count": 32,
   "metadata": {},
   "outputs": [
    {
     "name": "stdout",
     "output_type": "stream",
     "text": [
      "2 11 13\n"
     ]
    },
    {
     "data": {
      "text/plain": [
       "True"
      ]
     },
     "execution_count": 32,
     "metadata": {},
     "output_type": "execute_result"
    }
   ],
   "source": [
    "# Given a sorted array of integers, return the two numbers such that,\n",
    "# they add up to a specific target. You may assume that each input_\n",
    "# would have exactly one solution, and you may not use the same element twice.\n",
    "\n",
    "# M1\n",
    "# Time complexity : O(n^2)\n",
    "# Space complexity : O(1)\n",
    "A = [-2,1,2,4,7,11]\n",
    "target = 13\n",
    "def sum_two_to_target(A, tar):\n",
    "    for i in range(len(A)-1):\n",
    "        for j in range(i+1, len(A)):\n",
    "            if A[i]+A[j] == tar:\n",
    "                print(A[i],A[j],tar)\n",
    "                return True\n",
    "    return False        \n",
    "                \n",
    "sum_two_to_target(A, target)"
   ]
  },
  {
   "cell_type": "code",
   "execution_count": 4,
   "metadata": {},
   "outputs": [
    {
     "name": "stdout",
     "output_type": "stream",
     "text": [
      "2 11\n"
     ]
    },
    {
     "data": {
      "text/plain": [
       "True"
      ]
     },
     "execution_count": 4,
     "metadata": {},
     "output_type": "execute_result"
    }
   ],
   "source": [
    "# M2\n",
    "# Time complexity : O(n)\n",
    "# Space complexity : O(n)\n",
    "\n",
    "def two_sum_HashTable(X, target):\n",
    "    ht = dict()\n",
    "    for i in range(len(X)):\n",
    "        if X[i] in ht:\n",
    "            print(ht[X[i]], X[i])\n",
    "            return True\n",
    "        else:\n",
    "            ht[target - X[i]] = X[i]\n",
    "    return False        \n",
    "\n",
    "X = [-2,1,2,4,7,11]\n",
    "target = 13\n",
    "two_sum_HashTable(X, target)\n"
   ]
  },
  {
   "cell_type": "code",
   "execution_count": 5,
   "metadata": {},
   "outputs": [
    {
     "name": "stdout",
     "output_type": "stream",
     "text": [
      "2 11\n"
     ]
    },
    {
     "data": {
      "text/plain": [
       "True"
      ]
     },
     "execution_count": 5,
     "metadata": {},
     "output_type": "execute_result"
    }
   ],
   "source": [
    "# M3\n",
    "# Time complexity : O(n)\n",
    "# Space complexity : O(1)\n",
    "\n",
    "def two_sum(Z, tar):\n",
    "    i = 0\n",
    "    j = len(Z)-1\n",
    "    while i<=j:\n",
    "        if Z[i]+Z[j] == tar:\n",
    "            print(Z[i],Z[j])\n",
    "            return True\n",
    "        elif Z[i]+Z[j] < tar:\n",
    "                i += 1\n",
    "        else: # Z[i]+Z[j] > tar\n",
    "            j -= 1\n",
    "    return False\n",
    "\n",
    "Z = [-2,1,2,4,7,11]\n",
    "trgt = 13\n",
    "\n",
    "two_sum(Z, trgt)"
   ]
  },
  {
   "cell_type": "code",
   "execution_count": null,
   "metadata": {},
   "outputs": [],
   "source": []
  },
  {
   "cell_type": "code",
   "execution_count": 6,
   "metadata": {},
   "outputs": [
    {
     "name": "stdout",
     "output_type": "stream",
     "text": [
      "Maximum profit is :  30\n"
     ]
    }
   ],
   "source": [
    "# Given Share price for consecutive day \n",
    "# find the maximum profit\n",
    "\n",
    "# M1\n",
    "# Time complexity : O(n^2)\n",
    "# Space complexity : O(1)\n",
    "\n",
    "G = [310,315,275,295,260,270,290,230,255,250]\n",
    "\n",
    "def buy_and_sell_shares(A):\n",
    "    max_profit = 0\n",
    "    for i in range(len(A)-1):\n",
    "        for j in range(i, len(A)):\n",
    "            if A[j]-A[i] > max_profit:\n",
    "                max_profit = A[j]-A[i]\n",
    "    return max_profit\n",
    "\n",
    "print(\"Maximum profit is : \", buy_and_sell_shares(G))\n",
    "    "
   ]
  },
  {
   "cell_type": "code",
   "execution_count": 7,
   "metadata": {},
   "outputs": [
    {
     "name": "stdout",
     "output_type": "stream",
     "text": [
      "Max_Profit 30\n"
     ]
    }
   ],
   "source": [
    "# M2\n",
    "# Time complexity : O(n)\n",
    "# Space complexity : O(1)\n",
    "\n",
    "def buy_and_sell_once(A):\n",
    "    max_profit = 0\n",
    "    min_price = A[0]\n",
    "    for price in A:\n",
    "        min_price = min(min_price, price)\n",
    "        compare_profit = price - min_price\n",
    "        max_profit = max(max_profit, compare_profit)\n",
    "    return max_profit\n",
    "\n",
    "M = [310,315,275,295,260,270,290,230,255,250]\n",
    "print(\"Max_Profit\",buy_and_sell_once(M))\n"
   ]
  },
  {
   "cell_type": "code",
   "execution_count": null,
   "metadata": {},
   "outputs": [],
   "source": []
  },
  {
   "cell_type": "code",
   "execution_count": 15,
   "metadata": {},
   "outputs": [],
   "source": [
    "# end of array"
   ]
  },
  {
   "cell_type": "code",
   "execution_count": null,
   "metadata": {},
   "outputs": [],
   "source": []
  },
  {
   "cell_type": "code",
   "execution_count": null,
   "metadata": {},
   "outputs": [],
   "source": []
  },
  {
   "cell_type": "code",
   "execution_count": 16,
   "metadata": {},
   "outputs": [],
   "source": [
    "# Linked list"
   ]
  },
  {
   "cell_type": "code",
   "execution_count": 2,
   "metadata": {},
   "outputs": [
    {
     "name": "stdout",
     "output_type": "stream",
     "text": [
      "87-->8-->5-->99-->101-->\n",
      "lenght :  5\n",
      "lemon-->banana-->mango-->orange-->\n",
      "lenght :  4\n",
      "2-->1000-->4-->78-->99-->\n",
      "99-->78-->4-->1000-->2-->\n",
      "1-->2-->3-->4-->5-->6-->7-->8-->9-->10-->\n",
      "{1: 1, 4: 1, 6: 1, 9: 1, 11: 1}\n",
      "1-->4-->6-->9-->11-->\n",
      "A-->B-->C-->D-->E-->\n",
      "D\n",
      "count of 3 is :  5\n",
      "True\n",
      "False\n",
      "A-->B-->C-->\n"
     ]
    }
   ],
   "source": [
    "class Node:   # which represent individual element in LL\n",
    "    \n",
    "    def __init__(self, data=None, next=None):\n",
    "        self.data = data\n",
    "        self.next = next # pointer to the next element\n",
    "        \n",
    "class LinkedList:\n",
    "    def __init__(self):\n",
    "        self.head = None\n",
    "        \n",
    "    def insert_at_beginning(self, data):  \n",
    "        node = Node(data, self.head)\n",
    "        self.head = node\n",
    "        \n",
    "    def print(self):\n",
    "        if self.head is None:\n",
    "            print(\"LL is empty\")\n",
    "            return\n",
    "        itr = self.head\n",
    "        llstr = \"\"\n",
    "        while itr:\n",
    "            llstr += str(itr.data) + '-->'\n",
    "            itr = itr.next\n",
    "        print(llstr)   \n",
    "        \n",
    "    def insert_at_end(self,data):\n",
    "        if self.head is None:\n",
    "            self.head = Node(data, None)\n",
    "            return\n",
    "        itr = self.head\n",
    "        while itr.next:\n",
    "            itr = itr.next\n",
    "            \n",
    "        itr.next = Node(data,None)   \n",
    "        \n",
    "    def insert_values(self, data_list):\n",
    "        self.head = None\n",
    "        for data in data_list:\n",
    "            self.insert_at_end(data)\n",
    "            \n",
    "    def get_length(self):\n",
    "        count = 0\n",
    "        itr = self.head\n",
    "        while itr:\n",
    "            count+=1\n",
    "            itr = itr.next\n",
    "        return count   \n",
    "    \n",
    "    def remove_at(self, index):\n",
    "        if index < 0 or index > self.get_length():\n",
    "            raise Exception(\"Invalid Index\")\n",
    "            \n",
    "        if index == 0:\n",
    "            self.head = self.head.next\n",
    "            return\n",
    "        \n",
    "        count = 0 \n",
    "        itr = self.head\n",
    "        while itr:\n",
    "            if count == index-1:\n",
    "                itr.next = itr.next.next\n",
    "                break\n",
    "            itr = itr.next \n",
    "            count += 1\n",
    "    def insert_at(self, index, data):\n",
    "        if index < 0 or index > self.get_length():\n",
    "            raise Exception(\"Invalid Index\")\n",
    "            \n",
    "        if index==0:\n",
    "            self.insert_at_beginning(data)\n",
    "            return\n",
    "        count = 0\n",
    "        itr = self.head\n",
    "        while itr:\n",
    "            if count == index-1:\n",
    "                node = Node(data, itr.next)\n",
    "                itr.next = node\n",
    "                break\n",
    "            itr = itr.next\n",
    "            count += 1\n",
    "            \n",
    "    def insert_after_value(self, data_after, data_to_insert):\n",
    "        if self.head is None:\n",
    "            return\n",
    "        if self.head.data == data_after:\n",
    "            self.head.next = Node(data_to_insert, self.head.next)\n",
    "            return\n",
    "        \n",
    "        itr = self.head\n",
    "        while itr:\n",
    "            if itr.data == data_after:\n",
    "                itr.next = Node(data_to_insert, itr.next)\n",
    "                break\n",
    "            itr = itr.next\n",
    "    def remove_by_value(self, data):\n",
    "        if self.head is None:\n",
    "            return\n",
    "        if self.head.data == data:\n",
    "            self.head = self.head.next\n",
    "            return\n",
    "        \n",
    "        itr = self.head\n",
    "        while itr.next:\n",
    "            if itr.next.data == data:\n",
    "                itr.next = itr.next.next\n",
    "                break\n",
    "            itr = itr.next    \n",
    "            \n",
    "    def reverse_iteratively(self):\n",
    "        prev = None\n",
    "        curr = self.head\n",
    "        while curr:\n",
    "            nxt = curr.next\n",
    "            curr.next = prev\n",
    "            prev = curr\n",
    "            curr = nxt\n",
    "        self.head = prev \n",
    "        \n",
    "    def MergeTwoSortedLL(self,llist):\n",
    "        p = self.head\n",
    "        q = llist.head\n",
    "        s = None\n",
    "        if not p:\n",
    "            return q\n",
    "        if not q:\n",
    "            return p\n",
    "        if p and q:\n",
    "            if p.data < q.data:\n",
    "                s = p\n",
    "                p = s.next\n",
    "            else:\n",
    "                s = q\n",
    "                q = s.next\n",
    "            new_head = s\n",
    "        while p and q:\n",
    "            if p.data < q.data:\n",
    "                s.next = p\n",
    "                s = p\n",
    "                p = s.next\n",
    "            else:\n",
    "                s.next = q\n",
    "                s = q\n",
    "                q = s.next\n",
    "            if not p:\n",
    "                s.next = q\n",
    "            if not q:\n",
    "                s.next = p\n",
    "        return new_head  \n",
    "    \n",
    "    def remove_duplicates(self):\n",
    "        prev = None\n",
    "        cur = self.head\n",
    "        dup_list = dict()\n",
    "        while cur:\n",
    "            if cur.data in dup_list:\n",
    "                # remove value\n",
    "                prev.next = cur.next\n",
    "                cur = None\n",
    "            else:\n",
    "                dup_list[cur.data] = 1\n",
    "                prev = cur\n",
    "            cur = prev.next\n",
    "        print(dup_list) \n",
    "        \n",
    "    def Nth_value_from_last(self, n):\n",
    "        k = self.get_length()\n",
    "        cur = self.head\n",
    "        while cur:\n",
    "            if k == n:\n",
    "                print(cur.data)\n",
    "            k = k-1\n",
    "            cur = cur.next\n",
    "            \n",
    "    def count_occurance(self,data):\n",
    "        cur = self.head\n",
    "        count = 0\n",
    "        while cur:\n",
    "            if cur.data == data:\n",
    "                count = count+1\n",
    "            cur = cur.next\n",
    "        print(\"count of\",data, \"is : \", count) \n",
    "        \n",
    "    def is_palindrome(self):\n",
    "        if self.head is None:\n",
    "            print(\"LL is empty\")\n",
    "        p = self.head\n",
    "        lst = \"\"\n",
    "        while p:\n",
    "            lst += p.data\n",
    "            p = p.next\n",
    "        return lst == lst[::-1]\n",
    "    \n",
    "    def is_palindromeM2(self):   \n",
    "        p = self.head\n",
    "        s = []\n",
    "        while p:\n",
    "            s.append(p.data)\n",
    "            p = p.next\n",
    "        p = self.head\n",
    "        while p:\n",
    "            if p.data != s.pop():\n",
    "                return False\n",
    "            p = p.next\n",
    "        return True  \n",
    "    \n",
    "    def tail_to_head(self):\n",
    "        last = self.head\n",
    "        second_to_last = None\n",
    "        while last.next:\n",
    "            second_to_last = last\n",
    "            last = last.next\n",
    "        last.next = self.head\n",
    "        second_to_last.next = None\n",
    "        self.head = last\n",
    "    \n",
    "                \n",
    "            \n",
    "           \n",
    "if __name__ == \"__main__\":\n",
    "    ll = LinkedList()\n",
    "    ll.insert_at_beginning(5)\n",
    "    ll.insert_at_beginning(8)\n",
    "    ll.insert_at_beginning(87)\n",
    "    ll.insert_at_end(99)\n",
    "    ll.insert_at_end(101)\n",
    "    ll.print()\n",
    "    print(\"lenght : \",ll.get_length())\n",
    "    ll.insert_values([\"banana\",\"mango\",\"grapes\",\"orange\"])\n",
    "    ll.remove_at(2)\n",
    "    ll.insert_at(0,\"lemon\")\n",
    "    ll.print()\n",
    "    print(\"lenght : \",ll.get_length())\n",
    "    \n",
    "    ll.insert_values([2,4,56,78,99])\n",
    "    ll.insert_after_value(2,1000)\n",
    "    ll.remove_by_value(56)\n",
    "    ll.print()\n",
    "    ll.reverse_iteratively()\n",
    "    ll.print()\n",
    "    \n",
    "    llist1 = LinkedList()\n",
    "    llist2 = LinkedList()\n",
    "    \n",
    "    llist1.insert_at_end(1)\n",
    "    llist1.insert_at_end(5)\n",
    "    llist1.insert_at_end(7)\n",
    "    llist1.insert_at_end(9)\n",
    "    llist1.insert_at_end(10)\n",
    "    \n",
    "    llist2.insert_at_end(2)\n",
    "    llist2.insert_at_end(3)\n",
    "    llist2.insert_at_end(4)\n",
    "    llist2.insert_at_end(6)\n",
    "    llist2.insert_at_end(8)\n",
    "    \n",
    "    llist1.MergeTwoSortedLL(llist2)\n",
    "    llist1.print()\n",
    "    \n",
    "    dup = LinkedList()\n",
    "    dup.insert_at_end(1)\n",
    "    dup.insert_at_end(4)\n",
    "    dup.insert_at_end(6)\n",
    "    dup.insert_at_end(1)\n",
    "    dup.insert_at_end(4)\n",
    "    dup.insert_at_end(9)\n",
    "    dup.insert_at_end(11)\n",
    "    dup.insert_at_end(9)\n",
    "    dup.remove_duplicates()\n",
    "    dup.print()\n",
    "    \n",
    "    Nth = LinkedList()\n",
    "    Nth.insert_at_end('A')\n",
    "    Nth.insert_at_end('B')\n",
    "    Nth.insert_at_end('C')\n",
    "    Nth.insert_at_end('D')\n",
    "    Nth.insert_at_end('E')\n",
    "    Nth.print()\n",
    "    Nth.Nth_value_from_last(2)\n",
    "    \n",
    "    occurance = LinkedList()\n",
    "    occurance.insert_at_end(1)\n",
    "    occurance.insert_at_end(4)\n",
    "    occurance.insert_at_end(3)\n",
    "    occurance.insert_at_end(1)\n",
    "    occurance.insert_at_end(3)\n",
    "    occurance.insert_at_end(3)\n",
    "    occurance.insert_at_end(3)\n",
    "    occurance.insert_at_end(3)\n",
    "    occurance.count_occurance(3)\n",
    "    \n",
    "    palindrome = LinkedList()\n",
    "    palindrome.insert_at_end('R')\n",
    "    palindrome.insert_at_end('A')\n",
    "    palindrome.insert_at_end('D')\n",
    "    palindrome.insert_at_end('A')\n",
    "    palindrome.insert_at_end('R')\n",
    "    print(palindrome.is_palindrome())\n",
    "    \n",
    "    palindromeM2 = LinkedList()\n",
    "    palindromeM2.insert_at_end('o')\n",
    "    palindromeM2.insert_at_end('u')\n",
    "    palindromeM2.insert_at_end('t')\n",
    "    print(palindromeM2.is_palindromeM2())\n",
    "    \n",
    "    tail = LinkedList()\n",
    "    tail.insert_at_end('A')\n",
    "    tail.insert_at_end('B')\n",
    "    tail.insert_at_end('C')\n",
    "    tail.insert_at_end('D')\n",
    "    # A-B-C-D  --> D-A-B-C\n",
    "    tail.tail_to_head()\n",
    "    tail.print()\n",
    "\n",
    "        \n",
    "\n"
   ]
  },
  {
   "cell_type": "code",
   "execution_count": null,
   "metadata": {},
   "outputs": [],
   "source": [
    "# doubly linked List"
   ]
  },
  {
   "cell_type": "code",
   "execution_count": null,
   "metadata": {},
   "outputs": [],
   "source": []
  },
  {
   "cell_type": "code",
   "execution_count": null,
   "metadata": {},
   "outputs": [],
   "source": []
  },
  {
   "cell_type": "code",
   "execution_count": 4,
   "metadata": {},
   "outputs": [],
   "source": [
    "# Hash Map"
   ]
  },
  {
   "cell_type": "code",
   "execution_count": 9,
   "metadata": {},
   "outputs": [],
   "source": [
    "stock_prices = []\n",
    "with open(r\"C:\\Users\\Brij\\Desktop\\Python for data science\\Stock_price.csv\",\"r\") as f:\n",
    "    for line in f :\n",
    "        tokens = line.split(\",\")\n",
    "        day = tokens[0]\n",
    "        price = float(tokens[1])\n",
    "        stock_prices.append([day,price])"
   ]
  },
  {
   "cell_type": "code",
   "execution_count": 10,
   "metadata": {},
   "outputs": [
    {
     "data": {
      "text/plain": [
       "[['06-Mar', 310.0],\n",
       " ['07-Mar', 340.0],\n",
       " ['08-Mar', 380.0],\n",
       " ['09-Mar', 302.0],\n",
       " ['10-Mar', 297.0],\n",
       " ['11-Mar', 323.0]]"
      ]
     },
     "execution_count": 10,
     "metadata": {},
     "output_type": "execute_result"
    }
   ],
   "source": [
    "stock_prices   # array"
   ]
  },
  {
   "cell_type": "code",
   "execution_count": 11,
   "metadata": {},
   "outputs": [
    {
     "name": "stdout",
     "output_type": "stream",
     "text": [
      "302.0\n"
     ]
    }
   ],
   "source": [
    "for element in stock_prices :   # not very efficient for millions of records. Time complexity O(n)\n",
    "    if element[0]==\"09-Mar\":\n",
    "        print(element[1])        # array"
   ]
  },
  {
   "cell_type": "code",
   "execution_count": 12,
   "metadata": {},
   "outputs": [],
   "source": [
    "stock_prices = {}   # in python Dictionary\n",
    "with open(r\"C:\\Users\\Brij\\Desktop\\Python for data science\\Stock_price.csv\",\"r\") as f:\n",
    "    for line in f :\n",
    "        tokens = line.split(\",\")\n",
    "        day = tokens[0]\n",
    "        price = float(tokens[1])\n",
    "        stock_prices[day] = price"
   ]
  },
  {
   "cell_type": "code",
   "execution_count": 13,
   "metadata": {},
   "outputs": [
    {
     "data": {
      "text/plain": [
       "{'06-Mar': 310.0,\n",
       " '07-Mar': 340.0,\n",
       " '08-Mar': 380.0,\n",
       " '09-Mar': 302.0,\n",
       " '10-Mar': 297.0,\n",
       " '11-Mar': 323.0}"
      ]
     },
     "execution_count": 13,
     "metadata": {},
     "output_type": "execute_result"
    }
   ],
   "source": [
    "stock_prices # key-value pair."
   ]
  },
  {
   "cell_type": "code",
   "execution_count": 14,
   "metadata": {},
   "outputs": [
    {
     "data": {
      "text/plain": [
       "302.0"
      ]
     },
     "execution_count": 14,
     "metadata": {},
     "output_type": "execute_result"
    }
   ],
   "source": [
    "stock_prices['09-Mar']  # dictionary  O(1)"
   ]
  },
  {
   "cell_type": "code",
   "execution_count": null,
   "metadata": {},
   "outputs": [],
   "source": []
  },
  {
   "cell_type": "code",
   "execution_count": 80,
   "metadata": {},
   "outputs": [],
   "source": [
    "def get_hash(key):\n",
    "    h = 0\n",
    "    for char in key:\n",
    "        h += ord(char)\n",
    "    return h % 100    "
   ]
  },
  {
   "cell_type": "code",
   "execution_count": 83,
   "metadata": {},
   "outputs": [
    {
     "data": {
      "text/plain": [
       "59"
      ]
     },
     "execution_count": 83,
     "metadata": {},
     "output_type": "execute_result"
    }
   ],
   "source": [
    "get_hash(\"march 17\")"
   ]
  },
  {
   "cell_type": "code",
   "execution_count": 17,
   "metadata": {},
   "outputs": [
    {
     "data": {
      "text/plain": [
       "35"
      ]
     },
     "execution_count": 17,
     "metadata": {},
     "output_type": "execute_result"
    }
   ],
   "source": [
    "get_hash('06-Mar')"
   ]
  },
  {
   "cell_type": "code",
   "execution_count": 18,
   "metadata": {},
   "outputs": [],
   "source": [
    "class HashTable:\n",
    "    def __init__(self):\n",
    "        self.MAX = 100\n",
    "        self.arr = [None for i in range(self.MAX)]\n",
    "        \n",
    "    def get_hash(self, key):\n",
    "        h = 0\n",
    "        for char in key:\n",
    "            h += ord(char)\n",
    "        return h % self.MAX   \n",
    "    \n",
    "    def add(self, key, val):\n",
    "        h = self.get_hash(key)\n",
    "        self.arr[h] = val\n",
    "        \n",
    "    def get(self, key):\n",
    "        h = self.get_hash(key)\n",
    "        return self.arr[h]\n",
    "    \n",
    "    "
   ]
  },
  {
   "cell_type": "code",
   "execution_count": 19,
   "metadata": {},
   "outputs": [],
   "source": [
    "t = HashTable()\n"
   ]
  },
  {
   "cell_type": "code",
   "execution_count": 20,
   "metadata": {},
   "outputs": [],
   "source": [
    "t.add(\"march 6\", 130)"
   ]
  },
  {
   "cell_type": "code",
   "execution_count": 21,
   "metadata": {},
   "outputs": [
    {
     "data": {
      "text/plain": [
       "[None,\n",
       " None,\n",
       " None,\n",
       " None,\n",
       " None,\n",
       " None,\n",
       " None,\n",
       " None,\n",
       " None,\n",
       " 130,\n",
       " None,\n",
       " None,\n",
       " None,\n",
       " None,\n",
       " None,\n",
       " None,\n",
       " None,\n",
       " None,\n",
       " None,\n",
       " None,\n",
       " None,\n",
       " None,\n",
       " None,\n",
       " None,\n",
       " None,\n",
       " None,\n",
       " None,\n",
       " None,\n",
       " None,\n",
       " None,\n",
       " None,\n",
       " None,\n",
       " None,\n",
       " None,\n",
       " None,\n",
       " None,\n",
       " None,\n",
       " None,\n",
       " None,\n",
       " None,\n",
       " None,\n",
       " None,\n",
       " None,\n",
       " None,\n",
       " None,\n",
       " None,\n",
       " None,\n",
       " None,\n",
       " None,\n",
       " None,\n",
       " None,\n",
       " None,\n",
       " None,\n",
       " None,\n",
       " None,\n",
       " None,\n",
       " None,\n",
       " None,\n",
       " None,\n",
       " None,\n",
       " None,\n",
       " None,\n",
       " None,\n",
       " None,\n",
       " None,\n",
       " None,\n",
       " None,\n",
       " None,\n",
       " None,\n",
       " None,\n",
       " None,\n",
       " None,\n",
       " None,\n",
       " None,\n",
       " None,\n",
       " None,\n",
       " None,\n",
       " None,\n",
       " None,\n",
       " None,\n",
       " None,\n",
       " None,\n",
       " None,\n",
       " None,\n",
       " None,\n",
       " None,\n",
       " None,\n",
       " None,\n",
       " None,\n",
       " None,\n",
       " None,\n",
       " None,\n",
       " None,\n",
       " None,\n",
       " None,\n",
       " None,\n",
       " None,\n",
       " None,\n",
       " None,\n",
       " None]"
      ]
     },
     "execution_count": 21,
     "metadata": {},
     "output_type": "execute_result"
    }
   ],
   "source": [
    "t.arr"
   ]
  },
  {
   "cell_type": "code",
   "execution_count": 22,
   "metadata": {},
   "outputs": [
    {
     "data": {
      "text/plain": [
       "130"
      ]
     },
     "execution_count": 22,
     "metadata": {},
     "output_type": "execute_result"
    }
   ],
   "source": [
    "t.get(\"march 6\")"
   ]
  },
  {
   "cell_type": "code",
   "execution_count": null,
   "metadata": {},
   "outputs": [],
   "source": []
  },
  {
   "cell_type": "code",
   "execution_count": 23,
   "metadata": {},
   "outputs": [],
   "source": [
    "# This class is not handling collision"
   ]
  },
  {
   "cell_type": "code",
   "execution_count": 59,
   "metadata": {},
   "outputs": [],
   "source": [
    "class HashTable:\n",
    "    def __init__(self):\n",
    "        self.MAX = 100\n",
    "        self.arr = [None for i in range(self.MAX)]\n",
    "        \n",
    "    def get_hash(self, key):\n",
    "        hash = 0\n",
    "        for char in key:\n",
    "            hash += ord(char)\n",
    "        return hash % self.MAX   \n",
    "    \n",
    "    def __setitem__(self, key, val):\n",
    "        h = self.get_hash(key)\n",
    "        self.arr[h] = val\n",
    "        \n",
    "    def __getitem__(self, key):\n",
    "        h = self.get_hash(key)\n",
    "        return self.arr[h]\n",
    "    \n",
    "    def __delitem__(self, key):\n",
    "        h = self.get_hash(key)\n",
    "        self.arr[h] = None\n",
    "        \n",
    "    "
   ]
  },
  {
   "cell_type": "code",
   "execution_count": 60,
   "metadata": {},
   "outputs": [],
   "source": [
    "t = HashTable()\n",
    "t[\"march 6\"] = 130\n",
    "t[\"march 1\"] = 30\n",
    "t[\"dec 17\"] = 180\n",
    "t[\"march 17\"] = 500"
   ]
  },
  {
   "cell_type": "code",
   "execution_count": 61,
   "metadata": {},
   "outputs": [
    {
     "data": {
      "text/plain": [
       "9"
      ]
     },
     "execution_count": 61,
     "metadata": {},
     "output_type": "execute_result"
    }
   ],
   "source": [
    "t.get_hash(\"march 6\")"
   ]
  },
  {
   "cell_type": "code",
   "execution_count": 62,
   "metadata": {},
   "outputs": [
    {
     "data": {
      "text/plain": [
       "59"
      ]
     },
     "execution_count": 62,
     "metadata": {},
     "output_type": "execute_result"
    }
   ],
   "source": [
    "t.get_hash(\"march 17\")"
   ]
  },
  {
   "cell_type": "code",
   "execution_count": 64,
   "metadata": {},
   "outputs": [
    {
     "data": {
      "text/plain": [
       "130"
      ]
     },
     "execution_count": 64,
     "metadata": {},
     "output_type": "execute_result"
    }
   ],
   "source": [
    "t[\"march 6\"]"
   ]
  },
  {
   "cell_type": "code",
   "execution_count": 65,
   "metadata": {},
   "outputs": [
    {
     "data": {
      "text/plain": [
       "500"
      ]
     },
     "execution_count": 65,
     "metadata": {},
     "output_type": "execute_result"
    }
   ],
   "source": [
    "t[\"march 17\"]"
   ]
  },
  {
   "cell_type": "code",
   "execution_count": 63,
   "metadata": {},
   "outputs": [
    {
     "data": {
      "text/plain": [
       "[None,\n",
       " None,\n",
       " None,\n",
       " None,\n",
       " 30,\n",
       " None,\n",
       " None,\n",
       " None,\n",
       " None,\n",
       " 130,\n",
       " None,\n",
       " None,\n",
       " None,\n",
       " None,\n",
       " None,\n",
       " None,\n",
       " None,\n",
       " None,\n",
       " None,\n",
       " None,\n",
       " None,\n",
       " None,\n",
       " None,\n",
       " None,\n",
       " None,\n",
       " None,\n",
       " None,\n",
       " None,\n",
       " None,\n",
       " None,\n",
       " None,\n",
       " None,\n",
       " None,\n",
       " None,\n",
       " None,\n",
       " None,\n",
       " 180,\n",
       " None,\n",
       " None,\n",
       " None,\n",
       " None,\n",
       " None,\n",
       " None,\n",
       " None,\n",
       " None,\n",
       " None,\n",
       " None,\n",
       " None,\n",
       " None,\n",
       " None,\n",
       " None,\n",
       " None,\n",
       " None,\n",
       " None,\n",
       " None,\n",
       " None,\n",
       " None,\n",
       " None,\n",
       " None,\n",
       " 500,\n",
       " None,\n",
       " None,\n",
       " None,\n",
       " None,\n",
       " None,\n",
       " None,\n",
       " None,\n",
       " None,\n",
       " None,\n",
       " None,\n",
       " None,\n",
       " None,\n",
       " None,\n",
       " None,\n",
       " None,\n",
       " None,\n",
       " None,\n",
       " None,\n",
       " None,\n",
       " None,\n",
       " None,\n",
       " None,\n",
       " None,\n",
       " None,\n",
       " None,\n",
       " None,\n",
       " None,\n",
       " None,\n",
       " None,\n",
       " None,\n",
       " None,\n",
       " None,\n",
       " None,\n",
       " None,\n",
       " None,\n",
       " None,\n",
       " None,\n",
       " None,\n",
       " None,\n",
       " None]"
      ]
     },
     "execution_count": 63,
     "metadata": {},
     "output_type": "execute_result"
    }
   ],
   "source": [
    "t.arr"
   ]
  },
  {
   "cell_type": "code",
   "execution_count": 58,
   "metadata": {},
   "outputs": [],
   "source": [
    "del t[\"march 1\"]"
   ]
  },
  {
   "cell_type": "code",
   "execution_count": 59,
   "metadata": {},
   "outputs": [
    {
     "data": {
      "text/plain": [
       "[None,\n",
       " None,\n",
       " None,\n",
       " None,\n",
       " None,\n",
       " None,\n",
       " None,\n",
       " None,\n",
       " None,\n",
       " 130,\n",
       " None,\n",
       " None,\n",
       " None,\n",
       " None,\n",
       " None,\n",
       " None,\n",
       " None,\n",
       " None,\n",
       " None,\n",
       " None,\n",
       " None,\n",
       " None,\n",
       " None,\n",
       " None,\n",
       " None,\n",
       " None,\n",
       " None,\n",
       " None,\n",
       " None,\n",
       " None,\n",
       " None,\n",
       " None,\n",
       " None,\n",
       " None,\n",
       " None,\n",
       " None,\n",
       " 180,\n",
       " None,\n",
       " None,\n",
       " None,\n",
       " None,\n",
       " None,\n",
       " None,\n",
       " None,\n",
       " None,\n",
       " None,\n",
       " None,\n",
       " None,\n",
       " None,\n",
       " None,\n",
       " None,\n",
       " None,\n",
       " None,\n",
       " None,\n",
       " None,\n",
       " None,\n",
       " None,\n",
       " None,\n",
       " None,\n",
       " None,\n",
       " None,\n",
       " None,\n",
       " None,\n",
       " None,\n",
       " None,\n",
       " None,\n",
       " None,\n",
       " None,\n",
       " None,\n",
       " None,\n",
       " None,\n",
       " None,\n",
       " None,\n",
       " None,\n",
       " None,\n",
       " None,\n",
       " None,\n",
       " None,\n",
       " None,\n",
       " None,\n",
       " None,\n",
       " None,\n",
       " None,\n",
       " None,\n",
       " None,\n",
       " None,\n",
       " None,\n",
       " None,\n",
       " None,\n",
       " None,\n",
       " None,\n",
       " None,\n",
       " None,\n",
       " None,\n",
       " None,\n",
       " None,\n",
       " None,\n",
       " None,\n",
       " None,\n",
       " None]"
      ]
     },
     "execution_count": 59,
     "metadata": {},
     "output_type": "execute_result"
    }
   ],
   "source": [
    "t.arr"
   ]
  },
  {
   "cell_type": "code",
   "execution_count": null,
   "metadata": {},
   "outputs": [],
   "source": []
  },
  {
   "cell_type": "code",
   "execution_count": 60,
   "metadata": {},
   "outputs": [],
   "source": [
    "# collision in Hash Map"
   ]
  },
  {
   "cell_type": "code",
   "execution_count": 1,
   "metadata": {},
   "outputs": [],
   "source": [
    "# two approaches : 1. Chaining, 2. Linear Probing"
   ]
  },
  {
   "cell_type": "code",
   "execution_count": 2,
   "metadata": {},
   "outputs": [],
   "source": [
    "# Lets implement chaining"
   ]
  },
  {
   "cell_type": "code",
   "execution_count": 71,
   "metadata": {},
   "outputs": [],
   "source": [
    "class HashTable:\n",
    "    def __init__(self):\n",
    "        self.MAX = 100\n",
    "        self.arr = [[] for i in range(self.MAX)]\n",
    "        \n",
    "    def get_hash(self, key):\n",
    "        hash = 0\n",
    "        for char in key:\n",
    "            hash += ord(char)\n",
    "        return hash % self.MAX   \n",
    "    \n",
    "    def __setitem__(self, key, val):\n",
    "        h = self.get_hash(key)\n",
    "        \n",
    "        found = False\n",
    "        for idx, element in enumerate(self.arr[h]):\n",
    "            if len(element)==2 and element[0]==key:\n",
    "                self.arr[h][idx] = (key,val)\n",
    "                found = True\n",
    "                break\n",
    "        if not found :\n",
    "            self.arr[h].append((key,val))\n",
    "        \n",
    "    def __getitem__(self, key):\n",
    "        h = self.get_hash(key)\n",
    "        \n",
    "        for element in self.arr[h]:\n",
    "            if element[0]==key:\n",
    "                return element[1]\n",
    "    \n",
    "    def __delitem__(self, key):\n",
    "        h = self.get_hash(key)\n",
    "        for index, element in enumerate(self.arr[h]):\n",
    "            if element[0] == key:\n",
    "                del self.arr[h][index]\n",
    "        "
   ]
  },
  {
   "cell_type": "code",
   "execution_count": 72,
   "metadata": {},
   "outputs": [],
   "source": [
    "d = HashTable()\n",
    "d[\"march 6\"] = 130\n",
    "\n",
    "d[\"march 8\"] = 180\n",
    "d[\"march 17\"] = 500"
   ]
  },
  {
   "cell_type": "code",
   "execution_count": 73,
   "metadata": {},
   "outputs": [
    {
     "data": {
      "text/plain": [
       "[[],\n",
       " [],\n",
       " [],\n",
       " [],\n",
       " [],\n",
       " [],\n",
       " [],\n",
       " [],\n",
       " [],\n",
       " [('march 6', 130)],\n",
       " [],\n",
       " [('march 8', 180)],\n",
       " [],\n",
       " [],\n",
       " [],\n",
       " [],\n",
       " [],\n",
       " [],\n",
       " [],\n",
       " [],\n",
       " [],\n",
       " [],\n",
       " [],\n",
       " [],\n",
       " [],\n",
       " [],\n",
       " [],\n",
       " [],\n",
       " [],\n",
       " [],\n",
       " [],\n",
       " [],\n",
       " [],\n",
       " [],\n",
       " [],\n",
       " [],\n",
       " [],\n",
       " [],\n",
       " [],\n",
       " [],\n",
       " [],\n",
       " [],\n",
       " [],\n",
       " [],\n",
       " [],\n",
       " [],\n",
       " [],\n",
       " [],\n",
       " [],\n",
       " [],\n",
       " [],\n",
       " [],\n",
       " [],\n",
       " [],\n",
       " [],\n",
       " [],\n",
       " [],\n",
       " [],\n",
       " [],\n",
       " [('march 17', 500)],\n",
       " [],\n",
       " [],\n",
       " [],\n",
       " [],\n",
       " [],\n",
       " [],\n",
       " [],\n",
       " [],\n",
       " [],\n",
       " [],\n",
       " [],\n",
       " [],\n",
       " [],\n",
       " [],\n",
       " [],\n",
       " [],\n",
       " [],\n",
       " [],\n",
       " [],\n",
       " [],\n",
       " [],\n",
       " [],\n",
       " [],\n",
       " [],\n",
       " [],\n",
       " [],\n",
       " [],\n",
       " [],\n",
       " [],\n",
       " [],\n",
       " [],\n",
       " [],\n",
       " [],\n",
       " [],\n",
       " [],\n",
       " [],\n",
       " [],\n",
       " [],\n",
       " [],\n",
       " []]"
      ]
     },
     "execution_count": 73,
     "metadata": {},
     "output_type": "execute_result"
    }
   ],
   "source": [
    "d.arr"
   ]
  },
  {
   "cell_type": "code",
   "execution_count": 76,
   "metadata": {},
   "outputs": [
    {
     "data": {
      "text/plain": [
       "130"
      ]
     },
     "execution_count": 76,
     "metadata": {},
     "output_type": "execute_result"
    }
   ],
   "source": [
    "d[\"march 6\"]"
   ]
  },
  {
   "cell_type": "code",
   "execution_count": 78,
   "metadata": {},
   "outputs": [],
   "source": [
    "del d[\"march 17\"]"
   ]
  },
  {
   "cell_type": "code",
   "execution_count": null,
   "metadata": {},
   "outputs": [],
   "source": [
    "#nyc_weather.csv contains new york city weather for first few days in the month of January. \n",
    "#Write a program that can answer following :\n",
    "   #What was the average temperature in first week of Jan\n",
    "   #What was the maximum temperature in first 10 days of Jan\n",
    "   #Figure out data structure that is best for this problem\n",
    "    \n",
    "import pandas as pd \n",
    "import numpy as np\n",
    "\n",
    "weather = pd.read_csv(r\"c\")"
   ]
  },
  {
   "cell_type": "code",
   "execution_count": null,
   "metadata": {},
   "outputs": [],
   "source": []
  },
  {
   "cell_type": "code",
   "execution_count": null,
   "metadata": {},
   "outputs": [],
   "source": [
    "# Stack"
   ]
  },
  {
   "cell_type": "code",
   "execution_count": null,
   "metadata": {},
   "outputs": [],
   "source": []
  },
  {
   "cell_type": "code",
   "execution_count": null,
   "metadata": {},
   "outputs": [],
   "source": []
  },
  {
   "cell_type": "code",
   "execution_count": 47,
   "metadata": {},
   "outputs": [],
   "source": [
    "stk = []\n",
    "\n",
    "stk.append(12)\n",
    "stk.append(15)\n",
    "stk.append(23)"
   ]
  },
  {
   "cell_type": "code",
   "execution_count": 48,
   "metadata": {},
   "outputs": [
    {
     "data": {
      "text/plain": [
       "[12, 15, 23]"
      ]
     },
     "execution_count": 48,
     "metadata": {},
     "output_type": "execute_result"
    }
   ],
   "source": [
    "stk"
   ]
  },
  {
   "cell_type": "code",
   "execution_count": 49,
   "metadata": {},
   "outputs": [
    {
     "data": {
      "text/plain": [
       "23"
      ]
     },
     "execution_count": 49,
     "metadata": {},
     "output_type": "execute_result"
    }
   ],
   "source": [
    "stk.pop()"
   ]
  },
  {
   "cell_type": "code",
   "execution_count": 51,
   "metadata": {},
   "outputs": [],
   "source": [
    "from collections import deque\n",
    "\n",
    "stack = deque()"
   ]
  },
  {
   "cell_type": "code",
   "execution_count": 53,
   "metadata": {},
   "outputs": [
    {
     "data": {
      "text/plain": [
       "deque(['abc', 'GMK', 'xyz'])"
      ]
     },
     "execution_count": 53,
     "metadata": {},
     "output_type": "execute_result"
    }
   ],
   "source": [
    "stack.append(\"abc\")\n",
    "stack.append(\"GMK\")\n",
    "stack.append(\"xyz\")\n",
    "stack"
   ]
  },
  {
   "cell_type": "code",
   "execution_count": 54,
   "metadata": {},
   "outputs": [
    {
     "data": {
      "text/plain": [
       "'xyz'"
      ]
     },
     "execution_count": 54,
     "metadata": {},
     "output_type": "execute_result"
    }
   ],
   "source": [
    "stack.pop()"
   ]
  },
  {
   "cell_type": "code",
   "execution_count": 55,
   "metadata": {},
   "outputs": [
    {
     "data": {
      "text/plain": [
       "deque(['abc', 'GMK'])"
      ]
     },
     "execution_count": 55,
     "metadata": {},
     "output_type": "execute_result"
    }
   ],
   "source": [
    "stack"
   ]
  },
  {
   "cell_type": "code",
   "execution_count": 52,
   "metadata": {},
   "outputs": [
    {
     "data": {
      "text/plain": [
       "['__add__',\n",
       " '__bool__',\n",
       " '__class__',\n",
       " '__contains__',\n",
       " '__copy__',\n",
       " '__delattr__',\n",
       " '__delitem__',\n",
       " '__dir__',\n",
       " '__doc__',\n",
       " '__eq__',\n",
       " '__format__',\n",
       " '__ge__',\n",
       " '__getattribute__',\n",
       " '__getitem__',\n",
       " '__gt__',\n",
       " '__hash__',\n",
       " '__iadd__',\n",
       " '__imul__',\n",
       " '__init__',\n",
       " '__init_subclass__',\n",
       " '__iter__',\n",
       " '__le__',\n",
       " '__len__',\n",
       " '__lt__',\n",
       " '__mul__',\n",
       " '__ne__',\n",
       " '__new__',\n",
       " '__reduce__',\n",
       " '__reduce_ex__',\n",
       " '__repr__',\n",
       " '__reversed__',\n",
       " '__rmul__',\n",
       " '__setattr__',\n",
       " '__setitem__',\n",
       " '__sizeof__',\n",
       " '__str__',\n",
       " '__subclasshook__',\n",
       " 'append',\n",
       " 'appendleft',\n",
       " 'clear',\n",
       " 'copy',\n",
       " 'count',\n",
       " 'extend',\n",
       " 'extendleft',\n",
       " 'index',\n",
       " 'insert',\n",
       " 'maxlen',\n",
       " 'pop',\n",
       " 'popleft',\n",
       " 'remove',\n",
       " 'reverse',\n",
       " 'rotate']"
      ]
     },
     "execution_count": 52,
     "metadata": {},
     "output_type": "execute_result"
    }
   ],
   "source": [
    "dir(stack)"
   ]
  },
  {
   "cell_type": "code",
   "execution_count": null,
   "metadata": {},
   "outputs": [],
   "source": []
  },
  {
   "cell_type": "code",
   "execution_count": 63,
   "metadata": {},
   "outputs": [],
   "source": [
    "from collections import deque\n",
    "\n",
    "class stack:\n",
    "    def __init__(self):\n",
    "        self.container = deque()\n",
    "        \n",
    "    def push(self, val):\n",
    "        return self.container.append(val)\n",
    "    \n",
    "    def pop(self):\n",
    "        return self.container.pop()\n",
    "    \n",
    "    def peek(self):\n",
    "        return self.container[-1]\n",
    "    \n",
    "    def is_empty(self):\n",
    "        return len(self.container)==0\n",
    "    \n",
    "    def size(self):\n",
    "        return len(self.container)"
   ]
  },
  {
   "cell_type": "code",
   "execution_count": 66,
   "metadata": {},
   "outputs": [],
   "source": [
    "s = stack()\n",
    "\n",
    "s.push(2)\n",
    "s.push(3)\n",
    "s.push(7)"
   ]
  },
  {
   "cell_type": "code",
   "execution_count": 67,
   "metadata": {},
   "outputs": [
    {
     "data": {
      "text/plain": [
       "7"
      ]
     },
     "execution_count": 67,
     "metadata": {},
     "output_type": "execute_result"
    }
   ],
   "source": [
    "s.peek()"
   ]
  },
  {
   "cell_type": "code",
   "execution_count": 68,
   "metadata": {},
   "outputs": [
    {
     "data": {
      "text/plain": [
       "7"
      ]
     },
     "execution_count": 68,
     "metadata": {},
     "output_type": "execute_result"
    }
   ],
   "source": [
    "s.pop()"
   ]
  },
  {
   "cell_type": "code",
   "execution_count": 69,
   "metadata": {},
   "outputs": [
    {
     "data": {
      "text/plain": [
       "3"
      ]
     },
     "execution_count": 69,
     "metadata": {},
     "output_type": "execute_result"
    }
   ],
   "source": [
    "s.pop()"
   ]
  },
  {
   "cell_type": "code",
   "execution_count": 70,
   "metadata": {},
   "outputs": [
    {
     "data": {
      "text/plain": [
       "1"
      ]
     },
     "execution_count": 70,
     "metadata": {},
     "output_type": "execute_result"
    }
   ],
   "source": [
    "s.size()"
   ]
  },
  {
   "cell_type": "code",
   "execution_count": 71,
   "metadata": {},
   "outputs": [
    {
     "data": {
      "text/plain": [
       "False"
      ]
     },
     "execution_count": 71,
     "metadata": {},
     "output_type": "execute_result"
    }
   ],
   "source": [
    "s.is_empty()"
   ]
  },
  {
   "cell_type": "code",
   "execution_count": null,
   "metadata": {},
   "outputs": [],
   "source": []
  },
  {
   "cell_type": "code",
   "execution_count": null,
   "metadata": {},
   "outputs": [],
   "source": []
  },
  {
   "cell_type": "code",
   "execution_count": null,
   "metadata": {},
   "outputs": [],
   "source": []
  },
  {
   "cell_type": "code",
   "execution_count": 1,
   "metadata": {},
   "outputs": [],
   "source": [
    "# Queue"
   ]
  },
  {
   "cell_type": "code",
   "execution_count": 8,
   "metadata": {},
   "outputs": [
    {
     "data": {
      "text/plain": [
       "[17, 15, 11]"
      ]
     },
     "execution_count": 8,
     "metadata": {},
     "output_type": "execute_result"
    }
   ],
   "source": [
    "que_list = []\n",
    "\n",
    "que_list.insert(0,11)\n",
    "que_list.insert(0,15)\n",
    "que_list.insert(0,17)\n",
    "que_list"
   ]
  },
  {
   "cell_type": "code",
   "execution_count": 9,
   "metadata": {},
   "outputs": [
    {
     "data": {
      "text/plain": [
       "11"
      ]
     },
     "execution_count": 9,
     "metadata": {},
     "output_type": "execute_result"
    }
   ],
   "source": [
    "que_list.pop()"
   ]
  },
  {
   "cell_type": "code",
   "execution_count": 10,
   "metadata": {},
   "outputs": [],
   "source": [
    "from collections import deque "
   ]
  },
  {
   "cell_type": "code",
   "execution_count": 12,
   "metadata": {},
   "outputs": [
    {
     "data": {
      "text/plain": [
       "deque([8, 5, 2])"
      ]
     },
     "execution_count": 12,
     "metadata": {},
     "output_type": "execute_result"
    }
   ],
   "source": [
    "q  = deque()\n",
    "\n",
    "q.appendleft(2)\n",
    "q.appendleft(5)\n",
    "q.appendleft(8)\n",
    "q"
   ]
  },
  {
   "cell_type": "code",
   "execution_count": 13,
   "metadata": {},
   "outputs": [
    {
     "data": {
      "text/plain": [
       "2"
      ]
     },
     "execution_count": 13,
     "metadata": {},
     "output_type": "execute_result"
    }
   ],
   "source": [
    "q.pop()"
   ]
  },
  {
   "cell_type": "code",
   "execution_count": 37,
   "metadata": {},
   "outputs": [],
   "source": [
    "from collections import deque  # can be used as stack and queue\n",
    "\n",
    "# class object buffer which is an instance of deque\n",
    "class Queue:\n",
    "    def __init__(self):\n",
    "        self.buffer = deque()\n",
    "        \n",
    "    def enqueue(self, val):\n",
    "        return self.buffer.appendleft(val)\n",
    "    \n",
    "    def dequeue(self):\n",
    "        return self.buffer.pop()\n",
    "    \n",
    "    def is_empty(self):\n",
    "        return len(self.buffer) == 0\n",
    "    \n",
    "    def size(self):\n",
    "        return len(self.buffer)"
   ]
  },
  {
   "cell_type": "code",
   "execution_count": 38,
   "metadata": {},
   "outputs": [],
   "source": [
    "pq = Queue()"
   ]
  },
  {
   "cell_type": "code",
   "execution_count": 39,
   "metadata": {},
   "outputs": [],
   "source": [
    "pq.enqueue({\n",
    "    'company':'Wal mart',\n",
    "    'timestamp':'15 apr, 11.01 AM',\n",
    "    'price':131\n",
    "})\n",
    "\n",
    "pq.enqueue({\n",
    "    'company':'Wal mart',\n",
    "    'timestamp':'15 apr, 11.02 AM',\n",
    "    'price':133\n",
    "})\n",
    "\n",
    "pq.enqueue({\n",
    "    'company':'Wal mart',\n",
    "    'timestamp':'15 apr, 11.03 AM',\n",
    "    'price':139\n",
    "})"
   ]
  },
  {
   "cell_type": "code",
   "execution_count": 40,
   "metadata": {},
   "outputs": [
    {
     "data": {
      "text/plain": [
       "3"
      ]
     },
     "execution_count": 40,
     "metadata": {},
     "output_type": "execute_result"
    }
   ],
   "source": [
    "pq.size()"
   ]
  },
  {
   "cell_type": "code",
   "execution_count": 41,
   "metadata": {},
   "outputs": [
    {
     "data": {
      "text/plain": [
       "deque([{'company': 'Wal mart', 'timestamp': '15 apr, 11.03 AM', 'price': 139},\n",
       "       {'company': 'Wal mart', 'timestamp': '15 apr, 11.02 AM', 'price': 133},\n",
       "       {'company': 'Wal mart', 'timestamp': '15 apr, 11.01 AM', 'price': 131}])"
      ]
     },
     "execution_count": 41,
     "metadata": {},
     "output_type": "execute_result"
    }
   ],
   "source": [
    "pq.buffer"
   ]
  },
  {
   "cell_type": "code",
   "execution_count": 42,
   "metadata": {},
   "outputs": [
    {
     "data": {
      "text/plain": [
       "{'company': 'Wal mart', 'timestamp': '15 apr, 11.01 AM', 'price': 131}"
      ]
     },
     "execution_count": 42,
     "metadata": {},
     "output_type": "execute_result"
    }
   ],
   "source": [
    "pq.dequeue()"
   ]
  },
  {
   "cell_type": "code",
   "execution_count": null,
   "metadata": {},
   "outputs": [],
   "source": []
  },
  {
   "cell_type": "code",
   "execution_count": null,
   "metadata": {},
   "outputs": [],
   "source": []
  },
  {
   "cell_type": "code",
   "execution_count": null,
   "metadata": {},
   "outputs": [],
   "source": []
  },
  {
   "cell_type": "code",
   "execution_count": 72,
   "metadata": {},
   "outputs": [],
   "source": [
    "# Tree   (General tree)"
   ]
  },
  {
   "cell_type": "code",
   "execution_count": null,
   "metadata": {},
   "outputs": [],
   "source": []
  },
  {
   "cell_type": "code",
   "execution_count": 87,
   "metadata": {},
   "outputs": [
    {
     "name": "stdout",
     "output_type": "stream",
     "text": [
      "Electronics\n",
      "   |__Laptop\n",
      "      |__Mac\n",
      "      |__Windows\n",
      "      |__Thinkpad\n",
      "   |__CellPhone\n",
      "      |__iphone\n",
      "      |__Google Pixel\n",
      "      |__vivo\n",
      "   |__TV\n",
      "      |__Samsung\n",
      "      |__LG\n"
     ]
    }
   ],
   "source": [
    "class TreeNode:\n",
    "    def __init__(self, data):\n",
    "        self.data = data\n",
    "        self.children = []    # will be an instance of TreeNode class\n",
    "        self.parent = None\n",
    "        \n",
    "    def add_child(self, child):\n",
    "        child.parent = self\n",
    "        self.children.append(child)\n",
    "        \n",
    "    def get_level(self):\n",
    "        level = 0\n",
    "        p = self.parent\n",
    "        while p:\n",
    "            level += 1\n",
    "            p = p.parent\n",
    "        return level    \n",
    "        \n",
    "        \n",
    "    def print_tree(self):\n",
    "        spaces = \" \" * self.get_level() * 3\n",
    "        prefix = spaces + \"|__\" if self.parent else \"\"\n",
    "        \n",
    "        print(prefix + self.data)\n",
    "        if len(self.children) > 0 :   # same as saying this if self.children:\n",
    "            for child in self.children:\n",
    "                child.print_tree()\n",
    "        \n",
    "def build_product_tree() :\n",
    "    root = TreeNode(\"Electronics\")\n",
    "    \n",
    "    laptop = TreeNode(\"Laptop\")\n",
    "    laptop.add_child(TreeNode(\"Mac\"))\n",
    "    laptop.add_child(TreeNode(\"Windows\"))\n",
    "    laptop.add_child(TreeNode(\"Thinkpad\"))\n",
    "    \n",
    "    cellphone = TreeNode(\"CellPhone\")\n",
    "    cellphone.add_child(TreeNode(\"iphone\"))\n",
    "    cellphone.add_child(TreeNode(\"Google Pixel\"))\n",
    "    cellphone.add_child(TreeNode(\"vivo\"))\n",
    "    \n",
    "    tv = TreeNode(\"TV\")\n",
    "    tv.add_child(TreeNode(\"Samsung\"))\n",
    "    tv.add_child(TreeNode(\"LG\"))\n",
    "    \n",
    "    root.add_child(laptop)\n",
    "    root.add_child(cellphone)\n",
    "    root.add_child(tv)\n",
    "    \n",
    "    return root\n",
    "        \n",
    "if __name__ == \"__main__\":\n",
    "    root = build_product_tree()\n",
    "    root.print_tree()\n",
    "    #print(root.get_level())"
   ]
  },
  {
   "cell_type": "code",
   "execution_count": null,
   "metadata": {},
   "outputs": [],
   "source": []
  },
  {
   "cell_type": "code",
   "execution_count": null,
   "metadata": {},
   "outputs": [],
   "source": []
  },
  {
   "cell_type": "code",
   "execution_count": 1,
   "metadata": {},
   "outputs": [],
   "source": [
    "# Binary Tree"
   ]
  },
  {
   "cell_type": "code",
   "execution_count": null,
   "metadata": {},
   "outputs": [],
   "source": [
    "\n"
   ]
  },
  {
   "cell_type": "code",
   "execution_count": null,
   "metadata": {},
   "outputs": [],
   "source": [
    "# Graphs and trees are recursive data_structures  - remember"
   ]
  },
  {
   "cell_type": "code",
   "execution_count": 16,
   "metadata": {},
   "outputs": [
    {
     "name": "stdout",
     "output_type": "stream",
     "text": [
      "uk is in the list ?  True\n",
      "Sweden is in the list ?  False\n",
      "['china', 'germany', 'india', 'russia', 'uk', 'usa']\n"
     ]
    }
   ],
   "source": [
    "class BinarySearchTreeNode:\n",
    "    def __init__(self, data):\n",
    "        self.data = data\n",
    "        self.left = None\n",
    "        self.right = None\n",
    "        \n",
    "    def add_child(self, data):\n",
    "        if data == self.data:\n",
    "            return\n",
    "        if data < self.data:\n",
    "            # add data in left subtree\n",
    "            \n",
    "            if self.left:\n",
    "                self.left.add_child(data)\n",
    "            else:\n",
    "                self.left = BinarySearchTreeNode(data)\n",
    "            \n",
    "            \n",
    "        else:\n",
    "            # add data in right subtree\n",
    "            if self.right:\n",
    "                self.right.add_child(data)\n",
    "            else:\n",
    "                self.right = BinarySearchTreeNode(data)      \n",
    "                \n",
    "                \n",
    "    # Now define inorder traversal method\n",
    "    def in_order_traversal(self):\n",
    "        elements = []\n",
    "            \n",
    "        # visit left tree\n",
    "        if self.left:\n",
    "            elements += self.left.in_order_traversal()\n",
    "            \n",
    "        # visit base node\n",
    "        elements.append(self.data)\n",
    "            \n",
    "        # visit right tree\n",
    "        if self.right:\n",
    "            elements += self.right.in_order_traversal()\n",
    "            \n",
    "        return elements\n",
    "    \n",
    "    def search(self, val):\n",
    "        if self.data == val:\n",
    "            return True\n",
    "        \n",
    "        if val < self.data:\n",
    "            if self.left:\n",
    "                return self.left.search(val)\n",
    "            else:\n",
    "                return False\n",
    "            \n",
    "        if val > self.data:\n",
    "            if self.right:\n",
    "                return self.right.search(val)\n",
    "            else:\n",
    "                return False            \n",
    "    \n",
    "        \n",
    "# lets build a helper method to print tree:\n",
    "def build_tree(elements):\n",
    "    root = BinarySearchTreeNode(elements[0])\n",
    "    for i in range(1, len(elements)):\n",
    "        root.add_child(elements[i])\n",
    "    return root    \n",
    "        \n",
    "if __name__ == \"__main__\":\n",
    "    numbers = [17,4,1,20,9,23,18,34, 18,4]\n",
    "    numbers_tree = build_tree(numbers)\n",
    "    #print(numbers_tree.in_order_traversal())  # one of the utility of binary search to sort element in ascending order\n",
    "                                               # other utility is to implement set type of class where elements  r unique\n",
    "    #print(numbers_tree.search(1))              # order log(n) search complexity\n",
    "    \n",
    "    countries = ['india', 'germany', 'usa', 'china', 'india', 'russia', 'uk']\n",
    "    country_tree = build_tree(countries)\n",
    "    \n",
    "    print(\"uk is in the list ? \", country_tree.search('uk'))\n",
    "    print(\"Sweden is in the list ? \", country_tree.search('Sweden'))\n",
    "    print(country_tree.in_order_traversal())  # sort in alphabetical order\n",
    "    "
   ]
  },
  {
   "cell_type": "code",
   "execution_count": null,
   "metadata": {},
   "outputs": [],
   "source": []
  },
  {
   "cell_type": "code",
   "execution_count": 17,
   "metadata": {},
   "outputs": [],
   "source": [
    "# Delete node from a binary search tree."
   ]
  },
  {
   "cell_type": "code",
   "execution_count": 18,
   "metadata": {},
   "outputs": [],
   "source": [
    "# we need to rebalance our tree in such a way that basic properties of binary search tree holds true\n",
    "\n",
    "# basic properties are :\n",
    "# all elements should be unique\n",
    "# for a given node the elements in left sub tree should hav value less that current node value\n",
    "# for a given node the elements in right sub tree should hav value greater that current node value"
   ]
  },
  {
   "cell_type": "code",
   "execution_count": 22,
   "metadata": {},
   "outputs": [
    {
     "name": "stdout",
     "output_type": "stream",
     "text": [
      "after deleting 20  [1, 4, 9, 17, 18, 23, 34]\n",
      "after deleting 9  [1, 4, 17, 18, 20, 23, 34]\n",
      "after deleting 17  [1, 4, 9, 18, 20, 23, 34]\n"
     ]
    }
   ],
   "source": [
    "class BinarySearchTreeNode:\n",
    "    def __init__(self, data):\n",
    "        self.data = data\n",
    "        self.left = None\n",
    "        self.right = None\n",
    "        \n",
    "    def add_child(self, data):\n",
    "        if data == self.data:\n",
    "            return\n",
    "        if data < self.data:\n",
    "            # add data in left subtree\n",
    "            \n",
    "            if self.left:\n",
    "                self.left.add_child(data)\n",
    "            else:\n",
    "                self.left = BinarySearchTreeNode(data)\n",
    "            \n",
    "            \n",
    "        else:\n",
    "            # add data in right subtree\n",
    "            if self.right:\n",
    "                self.right.add_child(data)\n",
    "            else:\n",
    "                self.right = BinarySearchTreeNode(data)      \n",
    "                \n",
    "                \n",
    "    # Now define inorder traversal method\n",
    "    def in_order_traversal(self):\n",
    "        elements = []\n",
    "            \n",
    "        # visit left tree\n",
    "        if self.left:\n",
    "            elements += self.left.in_order_traversal()\n",
    "            \n",
    "        # visit base node\n",
    "        elements.append(self.data)\n",
    "            \n",
    "        # visit right tree\n",
    "        if self.right:\n",
    "            elements += self.right.in_order_traversal()\n",
    "            \n",
    "        return elements\n",
    "    \n",
    "    def search(self, val):\n",
    "        if self.data == val:\n",
    "            return True\n",
    "        \n",
    "        if val < self.data:\n",
    "            if self.left:\n",
    "                return self.left.search(val)\n",
    "            else:\n",
    "                return False\n",
    "            \n",
    "        if val > self.data:\n",
    "            if self.right:\n",
    "                return self.right.search(val)\n",
    "            else:\n",
    "                return False    \n",
    "            \n",
    "    def find_max(self):\n",
    "        if self.right is None:\n",
    "            return self.data\n",
    "        return self.right.find_max()\n",
    "    \n",
    "    def find_min(self):\n",
    "        if self.left is None:\n",
    "            return self.data\n",
    "        return self.left.find_min()\n",
    "    \n",
    "    def delete(self, val):\n",
    "        if val < self.data:\n",
    "            if self.left:\n",
    "                self.left = self.left.delete(val)\n",
    "            else:   # no need to mention\n",
    "                return None\n",
    "            \n",
    "        elif val > self.data:\n",
    "            if self.right:\n",
    "                self.right = self.right.delete(val)\n",
    "                \n",
    "        else :\n",
    "            if self.left is None and self.right is None:\n",
    "                return None\n",
    "            if self.left is None:\n",
    "                return self.right\n",
    "            if self.right is None:\n",
    "                return self.left   # <------ self.right  in video\n",
    "            \n",
    "            min_val = self.right.find_min()\n",
    "            self.data = min_val\n",
    "            self.right = self.right.delete(min_val)\n",
    "            \n",
    "        return self    \n",
    "    \n",
    "        \n",
    "# lets build a helper method to print tree:\n",
    "def build_tree(elements):\n",
    "    root = BinarySearchTreeNode(elements[0])\n",
    "    for i in range(1, len(elements)):\n",
    "        root.add_child(elements[i])\n",
    "    return root    \n",
    "        \n",
    "if __name__ == \"__main__\":\n",
    "    \n",
    "    numbers = [17,4,1,20,9,23,18,34, 18,4]\n",
    "    numbers_tree = build_tree(numbers)\n",
    "    numbers_tree.delete(20)\n",
    "    print(\"after deleting 20 \",numbers_tree.in_order_traversal())\n",
    "    \n",
    "    numbers = [17,4,1,20,9,23,18,34, 18,4]\n",
    "    numbers_tree = build_tree(numbers)\n",
    "    numbers_tree.delete(9)\n",
    "    print(\"after deleting 9 \",numbers_tree.in_order_traversal()) \n",
    "\n",
    "    numbers = [17,4,1,20,9,23,18,34, 18,4]\n",
    "    numbers_tree = build_tree(numbers)\n",
    "    numbers_tree.delete(17)\n",
    "    print(\"after deleting 17 \",numbers_tree.in_order_traversal())   "
   ]
  },
  {
   "cell_type": "code",
   "execution_count": null,
   "metadata": {},
   "outputs": [],
   "source": []
  },
  {
   "cell_type": "code",
   "execution_count": null,
   "metadata": {},
   "outputs": [],
   "source": []
  },
  {
   "cell_type": "code",
   "execution_count": null,
   "metadata": {},
   "outputs": [],
   "source": []
  },
  {
   "cell_type": "code",
   "execution_count": 4,
   "metadata": {},
   "outputs": [],
   "source": [
    "# Graph"
   ]
  },
  {
   "cell_type": "code",
   "execution_count": null,
   "metadata": {},
   "outputs": [],
   "source": []
  },
  {
   "cell_type": "code",
   "execution_count": null,
   "metadata": {},
   "outputs": [],
   "source": [
    "# Graphs and trees are recursive data_structures  - remember"
   ]
  },
  {
   "cell_type": "code",
   "execution_count": 2,
   "metadata": {},
   "outputs": [],
   "source": [
    "# Graph is a complex data structure\n",
    "# Tree can be thought of as special type of graph. only one way in tree. graph can hav many paths.\n",
    "\n",
    "# e.g. of graph :  finding roots (like flight routes), recommendation sys, \n"
   ]
  },
  {
   "cell_type": "code",
   "execution_count": 18,
   "metadata": {},
   "outputs": [
    {
     "name": "stdout",
     "output_type": "stream",
     "text": [
      "Graph dict :  {'Mumbai': ['Paris', 'Dubai'], 'Paris': ['Dubai', 'NewYork'], 'Dubai': ['NewYork'], 'NewYork': ['Toronto']}\n",
      "Shortest Path btw Mumbai and NewYork :  ['Mumbai', 'Paris', 'NewYork']\n"
     ]
    }
   ],
   "source": [
    "class Graph:\n",
    "    def __init__(self, edges):\n",
    "        self.edges = edges\n",
    "        self.graph_dict = {}\n",
    "        for start, end in edges:\n",
    "            if start in self.graph_dict:\n",
    "                self.graph_dict[start].append(end)\n",
    "            else:\n",
    "                self.graph_dict[start] = [end]\n",
    "                \n",
    "        print(\"Graph dict : \",self.graph_dict) \n",
    "        \n",
    "    def get_paths(self, start, end, path = []):\n",
    "        path = path + [start]\n",
    "        \n",
    "        if start == end:\n",
    "            return [path]\n",
    "        \n",
    "        if start not in self.graph_dict:\n",
    "            return []\n",
    "        \n",
    "        paths = []\n",
    "        for node in self.graph_dict[start]:\n",
    "            if node not in path:\n",
    "                new_path = self.get_paths(node, end, path)\n",
    "                for p in new_path:\n",
    "                    paths.append(p)\n",
    "                    \n",
    "        return paths     \n",
    "    \n",
    "    def get_shortest_path(self, start, end, path = []):\n",
    "        \n",
    "        path = path + [start]\n",
    "        \n",
    "        if start not in self.graph_dict:\n",
    "            return None\n",
    "        \n",
    "        if start == end:\n",
    "            return path\n",
    "        \n",
    "        shortest_path = None\n",
    "        for node in self.graph_dict[start]:\n",
    "            if node not in path:\n",
    "                sp = self.get_shortest_path(node, end, path)\n",
    "                if sp:\n",
    "                    if shortest_path is None or len(sp) < len(shortest_path):\n",
    "                        shortest_path = sp\n",
    "                        \n",
    "        return shortest_path                \n",
    "        \n",
    "        \n",
    "            \n",
    "        \n",
    "\n",
    "if __name__ == \"__main__\":\n",
    "    routes = [\n",
    "        (\"Mumbai\", \"Paris\"),\n",
    "        (\"Mumbai\", \"Dubai\"),\n",
    "        (\"Paris\", \"Dubai\"),\n",
    "        (\"Paris\", \"NewYork\"),\n",
    "        (\"Dubai\", \"NewYork\"),\n",
    "        (\"NewYork\", \"Toronto\")\n",
    "    ]\n",
    "    \n",
    "    route_graph = Graph(routes)\n",
    "    \n",
    "    start = \"Mumbai\"\n",
    "    end = \"NewYork\"\n",
    "    \n",
    "    # print(f\"Paths btw {start} and {end} : \",route_graph.get_paths(start,end))\n",
    "    print(f\"Shortest Path btw {start} and {end} : \",route_graph.get_shortest_path(start,end))\n",
    "    \n",
    "    "
   ]
  },
  {
   "cell_type": "code",
   "execution_count": null,
   "metadata": {},
   "outputs": [],
   "source": []
  }
 ],
 "metadata": {
  "kernelspec": {
   "display_name": "Python 3",
   "language": "python",
   "name": "python3"
  },
  "language_info": {
   "codemirror_mode": {
    "name": "ipython",
    "version": 3
   },
   "file_extension": ".py",
   "mimetype": "text/x-python",
   "name": "python",
   "nbconvert_exporter": "python",
   "pygments_lexer": "ipython3",
   "version": "3.7.4"
  }
 },
 "nbformat": 4,
 "nbformat_minor": 2
}
