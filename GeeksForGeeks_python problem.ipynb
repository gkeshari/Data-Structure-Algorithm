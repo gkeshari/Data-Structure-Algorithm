{
 "cells": [
  {
   "cell_type": "code",
   "execution_count": 1,
   "metadata": {},
   "outputs": [
    {
     "name": "stdout",
     "output_type": "stream",
     "text": [
      "<class 'type'>\n"
     ]
    }
   ],
   "source": [
    "print(type(type(int)))"
   ]
  },
  {
   "cell_type": "code",
   "execution_count": 2,
   "metadata": {},
   "outputs": [
    {
     "name": "stdout",
     "output_type": "stream",
     "text": [
      "a b c d\n"
     ]
    }
   ],
   "source": [
    "L = ['a','b','c','d']\n",
    "\n",
    "print(\" \".join(L))"
   ]
  },
  {
   "cell_type": "code",
   "execution_count": 3,
   "metadata": {},
   "outputs": [
    {
     "data": {
      "text/plain": [
       "'A'"
      ]
     },
     "execution_count": 3,
     "metadata": {},
     "output_type": "execute_result"
    }
   ],
   "source": [
    "chr(ord('A'))"
   ]
  },
  {
   "cell_type": "code",
   "execution_count": 4,
   "metadata": {},
   "outputs": [
    {
     "ename": "AttributeError",
     "evalue": "'NoneType' object has no attribute 'groupdict'",
     "output_type": "error",
     "traceback": [
      "\u001b[1;31m---------------------------------------------------------------------------\u001b[0m",
      "\u001b[1;31mAttributeError\u001b[0m                            Traceback (most recent call last)",
      "\u001b[1;32m<ipython-input-4-f6d51da6f626>\u001b[0m in \u001b[0;36m<module>\u001b[1;34m\u001b[0m\n\u001b[0;32m      3\u001b[0m \u001b[0mregex\u001b[0m \u001b[1;33m=\u001b[0m \u001b[0mre\u001b[0m\u001b[1;33m.\u001b[0m\u001b[0mcompile\u001b[0m\u001b[1;33m(\u001b[0m\u001b[1;34m'(?P<animal>w+) (?P<verb>w+) (?P<adjective>w+)'\u001b[0m\u001b[1;33m)\u001b[0m\u001b[1;33m\u001b[0m\u001b[1;33m\u001b[0m\u001b[0m\n\u001b[0;32m      4\u001b[0m \u001b[0mmatched\u001b[0m \u001b[1;33m=\u001b[0m \u001b[0mre\u001b[0m\u001b[1;33m.\u001b[0m\u001b[0msearch\u001b[0m\u001b[1;33m(\u001b[0m\u001b[0mregex\u001b[0m\u001b[1;33m,\u001b[0m \u001b[0msentence\u001b[0m\u001b[1;33m)\u001b[0m\u001b[1;33m\u001b[0m\u001b[1;33m\u001b[0m\u001b[0m\n\u001b[1;32m----> 5\u001b[1;33m \u001b[0mprint\u001b[0m\u001b[1;33m(\u001b[0m\u001b[0mmatched\u001b[0m\u001b[1;33m.\u001b[0m\u001b[0mgroupdict\u001b[0m\u001b[1;33m(\u001b[0m\u001b[1;33m)\u001b[0m\u001b[1;33m)\u001b[0m\u001b[1;33m\u001b[0m\u001b[1;33m\u001b[0m\u001b[0m\n\u001b[0m",
      "\u001b[1;31mAttributeError\u001b[0m: 'NoneType' object has no attribute 'groupdict'"
     ]
    }
   ],
   "source": [
    "import re\n",
    "sentence = 'horses are fast'\n",
    "regex = re.compile('(?P<animal>w+) (?P<verb>w+) (?P<adjective>w+)')\n",
    "matched = re.search(regex, sentence)\n",
    "print(matched.groupdict())"
   ]
  },
  {
   "cell_type": "code",
   "execution_count": 5,
   "metadata": {},
   "outputs": [
    {
     "data": {
      "text/plain": [
       "1598104179.235546"
      ]
     },
     "execution_count": 5,
     "metadata": {},
     "output_type": "execute_result"
    }
   ],
   "source": [
    "import time\n",
    "\n",
    "time.time()"
   ]
  },
  {
   "cell_type": "code",
   "execution_count": 6,
   "metadata": {},
   "outputs": [
    {
     "name": "stdout",
     "output_type": "stream",
     "text": [
      "0\n",
      "2\n",
      "1\n",
      "3\n",
      "2\n",
      "4\n"
     ]
    }
   ],
   "source": [
    "i = 0 \n",
    "while i<3:\n",
    "    print(i)\n",
    "    i = i+1\n",
    "    print(i+1)"
   ]
  },
  {
   "cell_type": "code",
   "execution_count": 7,
   "metadata": {},
   "outputs": [
    {
     "name": "stdout",
     "output_type": "stream",
     "text": [
      "dlroW olleH\n"
     ]
    }
   ],
   "source": [
    "print (\"Hello World\"[::-1])"
   ]
  },
  {
   "cell_type": "code",
   "execution_count": null,
   "metadata": {},
   "outputs": [],
   "source": []
  },
  {
   "cell_type": "code",
   "execution_count": null,
   "metadata": {},
   "outputs": [],
   "source": []
  },
  {
   "cell_type": "code",
   "execution_count": null,
   "metadata": {},
   "outputs": [],
   "source": []
  },
  {
   "cell_type": "code",
   "execution_count": 8,
   "metadata": {},
   "outputs": [],
   "source": [
    "from collections import deque"
   ]
  },
  {
   "cell_type": "code",
   "execution_count": 9,
   "metadata": {},
   "outputs": [],
   "source": [
    "stack = deque()"
   ]
  },
  {
   "cell_type": "code",
   "execution_count": 10,
   "metadata": {},
   "outputs": [
    {
     "data": {
      "text/plain": [
       "deque(['govind', 'madhav', 'keshari'])"
      ]
     },
     "execution_count": 10,
     "metadata": {},
     "output_type": "execute_result"
    }
   ],
   "source": [
    "stack.append('govind')\n",
    "stack.append('madhav')\n",
    "stack.append('keshari')\n",
    "stack"
   ]
  },
  {
   "cell_type": "code",
   "execution_count": 11,
   "metadata": {},
   "outputs": [
    {
     "data": {
      "text/plain": [
       "'keshari'"
      ]
     },
     "execution_count": 11,
     "metadata": {},
     "output_type": "execute_result"
    }
   ],
   "source": [
    "stack.pop()"
   ]
  },
  {
   "cell_type": "code",
   "execution_count": 12,
   "metadata": {},
   "outputs": [
    {
     "data": {
      "text/plain": [
       "'madhav'"
      ]
     },
     "execution_count": 12,
     "metadata": {},
     "output_type": "execute_result"
    }
   ],
   "source": [
    "stack.pop()"
   ]
  },
  {
   "cell_type": "code",
   "execution_count": 13,
   "metadata": {},
   "outputs": [
    {
     "data": {
      "text/plain": [
       "'govind'"
      ]
     },
     "execution_count": 13,
     "metadata": {},
     "output_type": "execute_result"
    }
   ],
   "source": [
    "stack.pop()"
   ]
  },
  {
   "cell_type": "code",
   "execution_count": 14,
   "metadata": {},
   "outputs": [],
   "source": [
    "from queue import LifoQueue"
   ]
  },
  {
   "cell_type": "code",
   "execution_count": 15,
   "metadata": {},
   "outputs": [],
   "source": [
    "s = LifoQueue()"
   ]
  },
  {
   "cell_type": "code",
   "execution_count": 16,
   "metadata": {},
   "outputs": [],
   "source": [
    "s.put('govind')\n",
    "s.put('madhav')\n"
   ]
  },
  {
   "cell_type": "code",
   "execution_count": 17,
   "metadata": {},
   "outputs": [
    {
     "data": {
      "text/plain": [
       "'madhav'"
      ]
     },
     "execution_count": 17,
     "metadata": {},
     "output_type": "execute_result"
    }
   ],
   "source": [
    "s.get()"
   ]
  },
  {
   "cell_type": "code",
   "execution_count": 18,
   "metadata": {},
   "outputs": [
    {
     "data": {
      "text/plain": [
       "'govind'"
      ]
     },
     "execution_count": 18,
     "metadata": {},
     "output_type": "execute_result"
    }
   ],
   "source": [
    "s.get()"
   ]
  },
  {
   "cell_type": "code",
   "execution_count": null,
   "metadata": {},
   "outputs": [],
   "source": [
    "s.get()"
   ]
  },
  {
   "cell_type": "code",
   "execution_count": null,
   "metadata": {},
   "outputs": [],
   "source": [
    "s.get()"
   ]
  },
  {
   "cell_type": "code",
   "execution_count": null,
   "metadata": {},
   "outputs": [],
   "source": [
    "s.get()"
   ]
  },
  {
   "cell_type": "code",
   "execution_count": null,
   "metadata": {},
   "outputs": [],
   "source": []
  },
  {
   "cell_type": "code",
   "execution_count": null,
   "metadata": {},
   "outputs": [],
   "source": []
  },
  {
   "cell_type": "code",
   "execution_count": 1,
   "metadata": {},
   "outputs": [
    {
     "name": "stdout",
     "output_type": "stream",
     "text": [
      "[0, 1]\n",
      "[3, 2, 1, 0, 1, 4]\n",
      "[0, 1, 0, 1, 4]\n"
     ]
    }
   ],
   "source": [
    "def gfg(x,l=[]): \n",
    "    for i in range(x): \n",
    "        l.append(i*i) \n",
    "    print(l)  \n",
    "  \n",
    "gfg(2) \n",
    "gfg(3,[3,2,1]) \n",
    "gfg(3)"
   ]
  },
  {
   "cell_type": "code",
   "execution_count": null,
   "metadata": {},
   "outputs": [],
   "source": []
  },
  {
   "cell_type": "code",
   "execution_count": 3,
   "metadata": {},
   "outputs": [
    {
     "name": "stdout",
     "output_type": "stream",
     "text": [
      "12\n"
     ]
    }
   ],
   "source": [
    "\n",
    "check1 = ['Learn', 'Quiz', 'Practice', 'Contribute'] \n",
    "check2 = check1 \n",
    "check3 = check1[:] \n",
    "  \n",
    "check2[0] = 'Code'\n",
    "check3[1] = 'Mcq'\n",
    "  \n",
    "count = 0\n",
    "for c in (check1, check2, check3): \n",
    "    if c[0] == 'Code': \n",
    "        count += 1\n",
    "    if c[1] == 'Mcq': \n",
    "        count += 10\n",
    "  \n",
    "print(count)"
   ]
  },
  {
   "cell_type": "code",
   "execution_count": null,
   "metadata": {},
   "outputs": [],
   "source": []
  },
  {
   "cell_type": "code",
   "execution_count": 5,
   "metadata": {},
   "outputs": [
    {
     "name": "stdout",
     "output_type": "stream",
     "text": [
      "1 1 1\n",
      "1 2 1\n",
      "3 2 3\n"
     ]
    }
   ],
   "source": [
    "class A(object): \n",
    "    val = 1\n",
    "  \n",
    "class B(A): \n",
    "    pass\n",
    "  \n",
    "class C(A): \n",
    "    pass\n",
    "  \n",
    "print (A.val, B.val, C.val )\n",
    "B.val = 2\n",
    "print (A.val, B.val, C.val) \n",
    "A.val = 3\n",
    "print (A.val, B.val, C.val)"
   ]
  },
  {
   "cell_type": "code",
   "execution_count": null,
   "metadata": {},
   "outputs": [],
   "source": []
  },
  {
   "cell_type": "code",
   "execution_count": 7,
   "metadata": {},
   "outputs": [
    {
     "name": "stdout",
     "output_type": "stream",
     "text": [
      "index of element 105 is :  5\n"
     ]
    }
   ],
   "source": [
    "list1 = range(100, 110) #statement 1 \n",
    "print (\"index of element 105 is : \", list1.index(105))  #statement 2"
   ]
  },
  {
   "cell_type": "code",
   "execution_count": 8,
   "metadata": {},
   "outputs": [],
   "source": [
    "from scipy import misc"
   ]
  },
  {
   "cell_type": "code",
   "execution_count": 9,
   "metadata": {},
   "outputs": [],
   "source": [
    "import tensorflow.keras.preprocessing.image"
   ]
  },
  {
   "cell_type": "code",
   "execution_count": 10,
   "metadata": {},
   "outputs": [
    {
     "ename": "ModuleNotFoundError",
     "evalue": "No module named 'ImageDataGenerator'",
     "output_type": "error",
     "traceback": [
      "\u001b[1;31m---------------------------------------------------------------------------\u001b[0m",
      "\u001b[1;31mModuleNotFoundError\u001b[0m                       Traceback (most recent call last)",
      "\u001b[1;32m<ipython-input-10-d5762af65ca1>\u001b[0m in \u001b[0;36m<module>\u001b[1;34m\u001b[0m\n\u001b[1;32m----> 1\u001b[1;33m \u001b[1;32mimport\u001b[0m \u001b[0mImageDataGenerator\u001b[0m\u001b[1;33m\u001b[0m\u001b[1;33m\u001b[0m\u001b[0m\n\u001b[0m",
      "\u001b[1;31mModuleNotFoundError\u001b[0m: No module named 'ImageDataGenerator'"
     ]
    }
   ],
   "source": [
    "import ImageDataGenerator"
   ]
  },
  {
   "cell_type": "code",
   "execution_count": null,
   "metadata": {},
   "outputs": [],
   "source": []
  },
  {
   "cell_type": "code",
   "execution_count": 1,
   "metadata": {},
   "outputs": [
    {
     "name": "stdout",
     "output_type": "stream",
     "text": [
      "C:\\inside C directory\n",
      "C:\\\\inside C directory\n"
     ]
    }
   ],
   "source": [
    "print ('C:\\\\inside C directory') # statement1 \n",
    "  \n",
    "print (r'C:\\\\inside C directory') # statement2"
   ]
  },
  {
   "cell_type": "code",
   "execution_count": 2,
   "metadata": {},
   "outputs": [
    {
     "name": "stdout",
     "output_type": "stream",
     "text": [
      "%&\n"
     ]
    }
   ],
   "source": [
    "print ('\\x25\\x26')"
   ]
  },
  {
   "cell_type": "code",
   "execution_count": null,
   "metadata": {},
   "outputs": [],
   "source": []
  },
  {
   "cell_type": "code",
   "execution_count": 3,
   "metadata": {},
   "outputs": [
    {
     "name": "stdout",
     "output_type": "stream",
     "text": [
      "GFG\n",
      "facebook\n"
     ]
    },
    {
     "ename": "NameError",
     "evalue": "name 'dictionary' is not defined",
     "output_type": "error",
     "traceback": [
      "\u001b[1;31m---------------------------------------------------------------------------\u001b[0m",
      "\u001b[1;31mNameError\u001b[0m                                 Traceback (most recent call last)",
      "\u001b[1;32m<ipython-input-3-8fc06fc4353f>\u001b[0m in \u001b[0;36m<module>\u001b[1;34m\u001b[0m\n\u001b[0;32m     10\u001b[0m     \u001b[0mprint\u001b[0m\u001b[1;33m(\u001b[0m\u001b[0mkey\u001b[0m\u001b[1;33m)\u001b[0m\u001b[1;33m\u001b[0m\u001b[1;33m\u001b[0m\u001b[0m\n\u001b[0;32m     11\u001b[0m \u001b[1;32mdel\u001b[0m \u001b[0mdictionary\u001b[0m\u001b[1;33m;\u001b[0m\u001b[1;33m\u001b[0m\u001b[1;33m\u001b[0m\u001b[0m\n\u001b[1;32m---> 12\u001b[1;33m \u001b[1;32mfor\u001b[0m \u001b[0mkey\u001b[0m\u001b[1;33m,\u001b[0m \u001b[0mvalues\u001b[0m \u001b[1;32min\u001b[0m \u001b[0mdictionary\u001b[0m\u001b[1;33m.\u001b[0m\u001b[0mitems\u001b[0m\u001b[1;33m(\u001b[0m\u001b[1;33m)\u001b[0m\u001b[1;33m:\u001b[0m\u001b[1;33m\u001b[0m\u001b[1;33m\u001b[0m\u001b[0m\n\u001b[0m\u001b[0;32m     13\u001b[0m     \u001b[0mprint\u001b[0m\u001b[1;33m(\u001b[0m\u001b[0mkey\u001b[0m\u001b[1;33m)\u001b[0m\u001b[1;33m\u001b[0m\u001b[1;33m\u001b[0m\u001b[0m\n",
      "\u001b[1;31mNameError\u001b[0m: name 'dictionary' is not defined"
     ]
    }
   ],
   "source": [
    "dictionary = {'GFG' : 'geeksforgeeks.org', \n",
    "              'google' : 'google.com', \n",
    "              'facebook' : 'facebook.com'\n",
    "              } \n",
    "del dictionary['google']; \n",
    "for key, values in dictionary.items(): \n",
    "    print(key) \n",
    "dictionary.clear(); \n",
    "for key, values in dictionary.items(): \n",
    "    print(key) \n",
    "del dictionary; \n",
    "for key, values in dictionary.items(): \n",
    "    print(key)"
   ]
  },
  {
   "cell_type": "code",
   "execution_count": null,
   "metadata": {},
   "outputs": [],
   "source": []
  },
  {
   "cell_type": "code",
   "execution_count": 4,
   "metadata": {},
   "outputs": [
    {
     "name": "stdout",
     "output_type": "stream",
     "text": [
      "Google 1\n",
      "Facebook 2\n",
      "Microsoft 2\n",
      "GFG 1\n",
      "Youtube 3\n"
     ]
    }
   ],
   "source": [
    "dictionary1 = {'Google' : 1, \n",
    "               'Facebook' : 2, \n",
    "               'Microsoft' : 3\n",
    "               } \n",
    "dictionary2 = {'GFG' : 1, \n",
    "               'Microsoft' : 2, \n",
    "               'Youtube' : 3\n",
    "               } \n",
    "dictionary1.update(dictionary2); \n",
    "for key, values in dictionary1.items(): \n",
    "    print(key, values)\n",
    "    \n",
    "# dictionary1.update(dictionary2) is used to update the entries of dictionary1 with entries of dictionary2. \n",
    "#If there are same keys in two dictionaries, then the value in second dictionary is used.    "
   ]
  },
  {
   "cell_type": "code",
   "execution_count": 6,
   "metadata": {},
   "outputs": [
    {
     "name": "stdout",
     "output_type": "stream",
     "text": [
      "3\n"
     ]
    }
   ],
   "source": [
    "dictionary1 = {'GFG' : 1, \n",
    "               'Google' : 2, \n",
    "               'GFG' : 3\n",
    "               } \n",
    "print(dictionary1['GFG']);\n",
    "\n",
    "\n",
    "# Here, GFG is the duplicate key. Duplicate keys are not allowed in python. \n",
    "#If there are same keys in a dictionay, then the value assigned mostly recently is assigned to the that key."
   ]
  },
  {
   "cell_type": "code",
   "execution_count": null,
   "metadata": {},
   "outputs": [],
   "source": []
  },
  {
   "cell_type": "code",
   "execution_count": 7,
   "metadata": {},
   "outputs": [
    {
     "name": "stdout",
     "output_type": "stream",
     "text": [
      "{'key1': 44, 'key2': 566}[1, 2, 3, 4]"
     ]
    }
   ],
   "source": [
    "temp = dict() \n",
    "temp['key1'] = {'key1' : 44, 'key2' : 566} \n",
    "temp['key2'] = [1, 2, 3, 4] \n",
    "for (key, values) in temp.items(): \n",
    "    print(values, end = \"\")\n",
    "    \n",
    "# A dictionary can hold any value such as an integer, string, list or even another dictionary holding key value pairs.    "
   ]
  },
  {
   "cell_type": "code",
   "execution_count": null,
   "metadata": {},
   "outputs": [],
   "source": []
  },
  {
   "cell_type": "code",
   "execution_count": 9,
   "metadata": {},
   "outputs": [
    {
     "name": "stdout",
     "output_type": "stream",
     "text": [
      "GFG 1 Facebook 2 Google 3 "
     ]
    }
   ],
   "source": [
    "temp = {'GFG' : 1, \n",
    "        'Facebook' : 2, \n",
    "        'Google' : 3\n",
    "        } \n",
    "for (key, values) in temp.items(): \n",
    "    print(key, values, end = \" \")\n",
    "    \n",
    "#  Dictionaries are unordered. So any key value pairs can be added at any location within a dictionary.\n",
    "# Any of the output may come.    "
   ]
  },
  {
   "cell_type": "code",
   "execution_count": null,
   "metadata": {},
   "outputs": [],
   "source": []
  },
  {
   "cell_type": "code",
   "execution_count": 10,
   "metadata": {},
   "outputs": [
    {
     "ename": "SyntaxError",
     "evalue": "invalid syntax (<ipython-input-10-c08c851b229e>, line 8)",
     "output_type": "error",
     "traceback": [
      "\u001b[1;36m  File \u001b[1;32m\"<ipython-input-10-c08c851b229e>\"\u001b[1;36m, line \u001b[1;32m8\u001b[0m\n\u001b[1;33m    else:\u001b[0m\n\u001b[1;37m       ^\u001b[0m\n\u001b[1;31mSyntaxError\u001b[0m\u001b[1;31m:\u001b[0m invalid syntax\n"
     ]
    }
   ],
   "source": [
    "data = 50\n",
    "try: \n",
    "    data = data/10\n",
    "except ZeroDivisionError: \n",
    "    print('Cannot divide by 0 ', end = '') \n",
    "finally: \n",
    "    print('GeeksforGeeks ', end = '') \n",
    "else: \n",
    "    print('Division successful ', end = '')\n",
    "    \n",
    "# else block following a finally block is not allowed in python. Python throws syntax error when such format is used.    "
   ]
  },
  {
   "cell_type": "code",
   "execution_count": 11,
   "metadata": {},
   "outputs": [
    {
     "name": "stdout",
     "output_type": "stream",
     "text": [
      "GFG"
     ]
    }
   ],
   "source": [
    "value = [1, 2, 3, 4] \n",
    "data = 0\n",
    "try: \n",
    "    data = value[4] \n",
    "except IndexError: \n",
    "    print('GFG', end = '') \n",
    "except: \n",
    "    print('GeeksforGeeks ', end = '')\n",
    "    \n",
    "#  At a time only one exception is caught, \n",
    "# even though the throw exception in the try block is likely to belong to multiple exception type.    "
   ]
  },
  {
   "cell_type": "code",
   "execution_count": null,
   "metadata": {},
   "outputs": [],
   "source": []
  },
  {
   "cell_type": "code",
   "execution_count": 13,
   "metadata": {},
   "outputs": [
    {
     "name": "stdout",
     "output_type": "stream",
     "text": [
      "[[[2, 3, 9]], [[2, 3, 9]], [[2, 3, 9]]]\n"
     ]
    }
   ],
   "source": [
    "data = [2, 3, 9] \n",
    "temp = [[x for x in[data]] for x in range(3)] \n",
    "print (temp)\n",
    "\n",
    "#  [x for x in[data] returns a new list copying the values in the list data \n",
    "# and the outer for statement prints the newly created list 3 times."
   ]
  },
  {
   "cell_type": "code",
   "execution_count": null,
   "metadata": {},
   "outputs": [],
   "source": []
  },
  {
   "cell_type": "code",
   "execution_count": 14,
   "metadata": {},
   "outputs": [
    {
     "name": "stdout",
     "output_type": "stream",
     "text": [
      "[2, 2, 6, 4, 4]\n"
     ]
    }
   ],
   "source": [
    "temp = 'Geeks 22536 for 445 Geeks'\n",
    "data = [x for x in (int(x) for x in temp if x.isdigit()) if x%2 == 0] \n",
    "print(data)"
   ]
  },
  {
   "cell_type": "code",
   "execution_count": 15,
   "metadata": {},
   "outputs": [
    {
     "name": "stdout",
     "output_type": "stream",
     "text": [
      "[]\n"
     ]
    }
   ],
   "source": [
    "data = [x for x in (x for x in 'Geeks 22966 for Geeks' if x.isdigit()) if \n",
    "(x in ([x for x in range(20)]))] \n",
    "print(data)\n",
    "\n",
    "# Since here x have not been converted to int, the condition in the if statement fails and therefore, the list remains empty."
   ]
  },
  {
   "cell_type": "code",
   "execution_count": 18,
   "metadata": {},
   "outputs": [
    {
     "name": "stdout",
     "output_type": "stream",
     "text": [
      "L1 :  [[1, [2, 3], 4], 7, 8, 9]\n",
      "11\n"
     ]
    }
   ],
   "source": [
    "L1 = list() \n",
    "L1.append([1, [2, 3], 4]) \n",
    "L1.extend([7, 8, 9]) \n",
    "print(\"L1 : \", L1)\n",
    "print(L1[0][1][1] + L1[2]) "
   ]
  },
  {
   "cell_type": "code",
   "execution_count": null,
   "metadata": {},
   "outputs": [],
   "source": []
  },
  {
   "cell_type": "code",
   "execution_count": 19,
   "metadata": {},
   "outputs": [
    {
     "name": "stdout",
     "output_type": "stream",
     "text": [
      "2.33 GFGNO\n"
     ]
    }
   ],
   "source": [
    "L1 = [1, 1.33, 'GFG', 0, 'NO', None, 'G', True] \n",
    "val1, val2 = 0, '' \n",
    "for x in L1: \n",
    "    if(type(x) == int or type(x) == float): \n",
    "        val1 += x \n",
    "    elif(type(x) == str): \n",
    "        val2 += x \n",
    "    else: \n",
    "        break\n",
    "print(val1, val2)\n",
    "\n",
    "# val1 will only have integer and floating values val1 = 1 + 1.33 + 0 = 2.33 and val2 will have string values\n",
    "# val2 =’GFG’ + ‘NO’ = ‘GFGNO’. String ‘G’ will not be part of val2 as the for loop will break at None, \n",
    "# thus ‘G’ will not be added to val2."
   ]
  },
  {
   "cell_type": "code",
   "execution_count": null,
   "metadata": {},
   "outputs": [],
   "source": []
  },
  {
   "cell_type": "code",
   "execution_count": 20,
   "metadata": {},
   "outputs": [
    {
     "name": "stdout",
     "output_type": "stream",
     "text": [
      "[[5], 2, 3, 4] [[5], 2, 3, 4] [1, 2, 3, 4] [1, 2, 3, 4]\n"
     ]
    }
   ],
   "source": [
    "L1 = [1, 2, 3, 4] \n",
    "L2 = L1 \n",
    "L3 = L1.copy() \n",
    "L4 = list(L1) \n",
    "L1[0] = [5] \n",
    "print(L1, L2, L3, L4)"
   ]
  },
  {
   "cell_type": "code",
   "execution_count": null,
   "metadata": {},
   "outputs": [],
   "source": []
  },
  {
   "cell_type": "code",
   "execution_count": 21,
   "metadata": {},
   "outputs": [
    {
     "name": "stdout",
     "output_type": "stream",
     "text": [
      "48 64 72 128\n"
     ]
    }
   ],
   "source": [
    "import sys \n",
    "L1 = tuple() \n",
    "print(sys.getsizeof(L1), end = \" \") \n",
    "L1 = (1, 2) \n",
    "print(sys.getsizeof(L1), end = \" \") \n",
    "L1 = (1, 3, (4, 5)) \n",
    "print(sys.getsizeof(L1), end = \" \") \n",
    "L1 = (1, 2, 3, 4, 5, [3, 4], 'p', '8', 9.777, (1, 3)) \n",
    "print(sys.getsizeof(L1))\n",
    "\n",
    "# An Empty Tuple has 48 Bytes as Overhead size and each additional element requires 8 Bytes.\n",
    "# (1, 2) Size: 48 + 2 * 8 = 64\n",
    "# (1, 3, (4, 5)) Size: 48 + 3 * 8 = 72\n",
    "# (1, 2, 3, 4, 5, [3, 4], ‘p’, ‘8’, 9.777, (1, 3)) Size: 48 + 10 * 8 = 128\n"
   ]
  },
  {
   "cell_type": "code",
   "execution_count": null,
   "metadata": {},
   "outputs": [],
   "source": []
  },
  {
   "cell_type": "code",
   "execution_count": 24,
   "metadata": {},
   "outputs": [
    {
     "name": "stdout",
     "output_type": "stream",
     "text": [
      "6\n"
     ]
    },
    {
     "ename": "TypeError",
     "evalue": "unsupported operand type(s) for +: 'int' and 'tuple'",
     "output_type": "error",
     "traceback": [
      "\u001b[1;31m---------------------------------------------------------------------------\u001b[0m",
      "\u001b[1;31mTypeError\u001b[0m                                 Traceback (most recent call last)",
      "\u001b[1;32m<ipython-input-24-62f95f253194>\u001b[0m in \u001b[0;36m<module>\u001b[1;34m\u001b[0m\n\u001b[0;32m      3\u001b[0m \u001b[0mT1\u001b[0m \u001b[1;33m+=\u001b[0m \u001b[1;36m5\u001b[0m\u001b[1;33m\u001b[0m\u001b[1;33m\u001b[0m\u001b[0m\n\u001b[0;32m      4\u001b[0m \u001b[0mprint\u001b[0m\u001b[1;33m(\u001b[0m\u001b[0mT1\u001b[0m\u001b[1;33m)\u001b[0m\u001b[1;33m\u001b[0m\u001b[1;33m\u001b[0m\u001b[0m\n\u001b[1;32m----> 5\u001b[1;33m \u001b[0mprint\u001b[0m\u001b[1;33m(\u001b[0m\u001b[0mT1\u001b[0m \u001b[1;33m+\u001b[0m \u001b[0mT2\u001b[0m\u001b[1;33m)\u001b[0m\u001b[1;33m\u001b[0m\u001b[1;33m\u001b[0m\u001b[0m\n\u001b[0m",
      "\u001b[1;31mTypeError\u001b[0m: unsupported operand type(s) for +: 'int' and 'tuple'"
     ]
    }
   ],
   "source": [
    "T1 = (1) \n",
    "T2 = (3, 4) \n",
    "T1 += 5\n",
    "print(T1) \n",
    "print(T1 + T2)\n",
    "\n",
    "#  T1 is an integer while T2 is tuple. Thus T1 will become 1 + 5 = 6. \n",
    "# But an integer and tuple cannot be added, it will throw TypeError."
   ]
  },
  {
   "cell_type": "code",
   "execution_count": 25,
   "metadata": {},
   "outputs": [
    {
     "name": "stdout",
     "output_type": "stream",
     "text": [
      "[True, 50, 5, 10] Sum is:  66\n"
     ]
    }
   ],
   "source": [
    "\n",
    "List = [True, 50, 10] \n",
    "List.insert(2, 5)     \n",
    "print(List, \"Sum is: \", sum(List)) "
   ]
  },
  {
   "cell_type": "code",
   "execution_count": null,
   "metadata": {},
   "outputs": [],
   "source": []
  },
  {
   "cell_type": "code",
   "execution_count": 26,
   "metadata": {},
   "outputs": [
    {
     "name": "stdout",
     "output_type": "stream",
     "text": [
      "5  None  [3, 7, 9]\n"
     ]
    }
   ],
   "source": [
    "L = [1, 3, 5, 7, 9] \n",
    "print(L.pop(-3), end = '  ') \n",
    "print(L.remove(L[0]), end = '  ') \n",
    "print(L)\n",
    "\n",
    "# pop() will delete and return the element whose index was passed as parameter. \n",
    "# L.pop(-3) will delete 5 and return 5, which is printed by print(). remove() does return any value, \n",
    "# it’s a void function. L[0] = 1, L.remove(1) will delete 1 from the list and the list remains to be [3, 7, 9]."
   ]
  },
  {
   "cell_type": "code",
   "execution_count": null,
   "metadata": {},
   "outputs": [],
   "source": []
  },
  {
   "cell_type": "code",
   "execution_count": 27,
   "metadata": {},
   "outputs": [
    {
     "name": "stdout",
     "output_type": "stream",
     "text": [
      "[7.531, 5.31, 3.1, 1]\n"
     ]
    }
   ],
   "source": [
    "def REVERSE(L): \n",
    "    L.reverse() \n",
    "    return(L) \n",
    "def YKNJS(L): \n",
    "    List = list() \n",
    "    List.extend(REVERSE(L)) \n",
    "    print(List) \n",
    "  \n",
    "L = [1, 3.1, 5.31, 7.531] \n",
    "YKNJS(L)"
   ]
  },
  {
   "cell_type": "code",
   "execution_count": null,
   "metadata": {},
   "outputs": [],
   "source": []
  },
  {
   "cell_type": "code",
   "execution_count": 28,
   "metadata": {},
   "outputs": [
    {
     "name": "stdout",
     "output_type": "stream",
     "text": [
      "{0: 0, 7: 0, 1: 1, 8: 1}\n"
     ]
    }
   ],
   "source": [
    "D = dict() \n",
    "for x in enumerate(range(2)): \n",
    "    D[x[0]] = x[1] \n",
    "    D[x[1]+7] = x[0] \n",
    "print(D)\n",
    "\n",
    "#  enumerate() will return a tuple, the loop will have x = (0, 0), (1, 1). \n",
    "# Thus D[0] = 0, D[1] = 1, D[0 + 7] = D[7] = 0 and D[1 + 7] = D[8] = 1.\n",
    "# Note: Dictionary is unordered, so the sequence of the key-value pair may differ in each output."
   ]
  },
  {
   "cell_type": "code",
   "execution_count": 39,
   "metadata": {},
   "outputs": [
    {
     "name": "stdout",
     "output_type": "stream",
     "text": [
      "(0, 0)\n",
      "(1, 1)\n"
     ]
    }
   ],
   "source": [
    "for x in enumerate(range(2)): \n",
    "    print(x)"
   ]
  },
  {
   "cell_type": "code",
   "execution_count": 40,
   "metadata": {},
   "outputs": [
    {
     "name": "stdout",
     "output_type": "stream",
     "text": [
      "E "
     ]
    },
    {
     "ename": "KeyError",
     "evalue": "2",
     "output_type": "error",
     "traceback": [
      "\u001b[1;31m---------------------------------------------------------------------------\u001b[0m",
      "\u001b[1;31mKeyError\u001b[0m                                  Traceback (most recent call last)",
      "\u001b[1;32m<ipython-input-40-5c80485c2d78>\u001b[0m in \u001b[0;36m<module>\u001b[1;34m\u001b[0m\n\u001b[0;32m      1\u001b[0m \u001b[0mD\u001b[0m \u001b[1;33m=\u001b[0m \u001b[1;33m{\u001b[0m\u001b[1;36m1\u001b[0m \u001b[1;33m:\u001b[0m \u001b[1;33m{\u001b[0m\u001b[1;34m'A'\u001b[0m \u001b[1;33m:\u001b[0m \u001b[1;33m{\u001b[0m\u001b[1;36m1\u001b[0m \u001b[1;33m:\u001b[0m \u001b[1;34m\"A\"\u001b[0m\u001b[1;33m}\u001b[0m\u001b[1;33m,\u001b[0m \u001b[1;36m2\u001b[0m \u001b[1;33m:\u001b[0m \u001b[1;34m\"B\"\u001b[0m\u001b[1;33m}\u001b[0m\u001b[1;33m,\u001b[0m \u001b[1;36m3\u001b[0m \u001b[1;33m:\u001b[0m\u001b[1;34m\"C\"\u001b[0m\u001b[1;33m,\u001b[0m \u001b[1;34m'B'\u001b[0m \u001b[1;33m:\u001b[0m \u001b[1;34m\"D\"\u001b[0m\u001b[1;33m,\u001b[0m \u001b[1;34m\"D\"\u001b[0m\u001b[1;33m:\u001b[0m \u001b[1;34m'E'\u001b[0m\u001b[1;33m}\u001b[0m\u001b[1;33m\u001b[0m\u001b[1;33m\u001b[0m\u001b[0m\n\u001b[0;32m      2\u001b[0m \u001b[0mprint\u001b[0m\u001b[1;33m(\u001b[0m\u001b[0mD\u001b[0m\u001b[1;33m[\u001b[0m\u001b[0mD\u001b[0m\u001b[1;33m[\u001b[0m\u001b[0mD\u001b[0m\u001b[1;33m[\u001b[0m\u001b[1;36m1\u001b[0m\u001b[1;33m]\u001b[0m\u001b[1;33m[\u001b[0m\u001b[1;36m2\u001b[0m\u001b[1;33m]\u001b[0m\u001b[1;33m]\u001b[0m\u001b[1;33m]\u001b[0m\u001b[1;33m,\u001b[0m \u001b[0mend\u001b[0m \u001b[1;33m=\u001b[0m \u001b[1;34m\" \"\u001b[0m\u001b[1;33m)\u001b[0m\u001b[1;33m\u001b[0m\u001b[1;33m\u001b[0m\u001b[0m\n\u001b[1;32m----> 3\u001b[1;33m \u001b[0mprint\u001b[0m\u001b[1;33m(\u001b[0m\u001b[0mD\u001b[0m\u001b[1;33m[\u001b[0m\u001b[0mD\u001b[0m\u001b[1;33m[\u001b[0m\u001b[1;36m1\u001b[0m\u001b[1;33m]\u001b[0m\u001b[1;33m[\u001b[0m\u001b[1;34m\"A\"\u001b[0m\u001b[1;33m]\u001b[0m\u001b[1;33m[\u001b[0m\u001b[1;36m2\u001b[0m\u001b[1;33m]\u001b[0m\u001b[1;33m]\u001b[0m\u001b[1;33m)\u001b[0m\u001b[1;33m\u001b[0m\u001b[1;33m\u001b[0m\u001b[0m\n\u001b[0m",
      "\u001b[1;31mKeyError\u001b[0m: 2"
     ]
    }
   ],
   "source": [
    "D = {1 : {'A' : {1 : \"A\"}, 2 : \"B\"}, 3 :\"C\", 'B' : \"D\", \"D\": 'E'} \n",
    "print(D[D[D[1][2]]], end = \" \") \n",
    "print(D[D[1][\"A\"][2]]) \n",
    "\n",
    "# Explanation: Key-Value Indexing is used in the example above.\n",
    "# D[1] = {‘A’ : {1 : “A”}, 2 : “B”}, D[1][2] = “B”, D[D[1][2]] = D[“B”] = “D” and D[“D”] = “E”. \n",
    "# D[1] = {‘A’ : {1 : “A”}, 2 : “B”}, D[1][“A”] = {1 : “A”} and D[1][“A”][2] doesn’t exists, thus KeyError."
   ]
  },
  {
   "cell_type": "code",
   "execution_count": 41,
   "metadata": {},
   "outputs": [
    {
     "name": "stdout",
     "output_type": "stream",
     "text": [
      "{0: 1, 1: 1, 2: 1}\n"
     ]
    }
   ],
   "source": [
    "D = dict() \n",
    "for i in range (3): \n",
    "    for j in range(2): \n",
    "        D[i] = j \n",
    "print(D)\n",
    "\n",
    "# Explanation: 1st loop will give 3 values to i 0, 1 and 2. In the empty dictionary, \n",
    "# valued are added and overwrited in j loop, for eg. D[0] = [0] becomes D[0] = 1, due to overwriting."
   ]
  },
  {
   "cell_type": "code",
   "execution_count": null,
   "metadata": {},
   "outputs": [],
   "source": []
  },
  {
   "cell_type": "code",
   "execution_count": 1,
   "metadata": {},
   "outputs": [
    {
     "name": "stdout",
     "output_type": "stream",
     "text": [
      "['11', '4', '1886'] ['1', '1']\n"
     ]
    }
   ],
   "source": [
    "import re \n",
    "p = re.compile('\\d+') \n",
    "print(p.findall(\"I met him once at 11 A.M. on 4th July 1886\"), end = \" \") \n",
    "p = re.compile('\\d') \n",
    "print(p.findall(\"I went to him at 11 A.M.\")) "
   ]
  },
  {
   "cell_type": "code",
   "execution_count": null,
   "metadata": {},
   "outputs": [],
   "source": []
  },
  {
   "cell_type": "code",
   "execution_count": 2,
   "metadata": {},
   "outputs": [
    {
     "name": "stdout",
     "output_type": "stream",
     "text": [
      "**eksfor**eks Geeksfor**eks\n"
     ]
    }
   ],
   "source": [
    "import re \n",
    "print(re.sub('ge', '**', 'Geeksforgeeks', flags = re.IGNORECASE), end = \" \") \n",
    "print(re.sub('ge', '**', 'Geeksforgeeks'))\n",
    "\n",
    "# In the first print statement, all ‘ge’ will be replaced ‘**’, and case is igonred. \n",
    "# Case is not igonred in 2nd statement, thus ‘ge’ will be replaced but not ‘Ge’.\n"
   ]
  },
  {
   "cell_type": "code",
   "execution_count": null,
   "metadata": {},
   "outputs": [],
   "source": []
  },
  {
   "cell_type": "code",
   "execution_count": 3,
   "metadata": {},
   "outputs": [
    {
     "name": "stdout",
     "output_type": "stream",
     "text": [
      "['pineapple']\n"
     ]
    }
   ],
   "source": [
    "import math \n",
    "import random \n",
    "L = [1, 2, 30000000000000] \n",
    "for x in range(3): \n",
    "    L[x] = math.sqrt(L[x]) \n",
    "  \n",
    "# random.choices() is available on Python 3.6.1 only. \n",
    "string = random.choices([\"apple\", \"carrot\", \"pineapple\"], L, k = 1) \n",
    "print(string)"
   ]
  },
  {
   "cell_type": "code",
   "execution_count": null,
   "metadata": {},
   "outputs": [],
   "source": []
  },
  {
   "cell_type": "code",
   "execution_count": 4,
   "metadata": {},
   "outputs": [
    {
     "name": "stdout",
     "output_type": "stream",
     "text": [
      "['ab', 'cd']\n"
     ]
    }
   ],
   "source": [
    "x = ['ab', 'cd']\n",
    "y=[]\n",
    "for i in x: \n",
    "    i.upper() \n",
    "print(x)\n",
    "\n",
    "#Explanation:\n",
    "# The function upper() does not modify a string in place, but it returns a new string which here isn’t being stored anywhere. \n",
    "# So we will get our original list as output."
   ]
  },
  {
   "cell_type": "code",
   "execution_count": 5,
   "metadata": {},
   "outputs": [
    {
     "name": "stdout",
     "output_type": "stream",
     "text": [
      "['ab', 'cd']\n",
      "['AB', 'CD']\n"
     ]
    }
   ],
   "source": [
    "x = ['ab', 'cd']\n",
    "y=[]\n",
    "for i in x: \n",
    "    y.append(i.upper()) \n",
    "print(x)\n",
    "print(y)"
   ]
  },
  {
   "cell_type": "code",
   "execution_count": null,
   "metadata": {},
   "outputs": [],
   "source": []
  },
  {
   "cell_type": "code",
   "execution_count": 6,
   "metadata": {},
   "outputs": [
    {
     "ename": "SyntaxError",
     "evalue": "invalid syntax (<ipython-input-6-462222003ca3>, line 3)",
     "output_type": "error",
     "traceback": [
      "\u001b[1;36m  File \u001b[1;32m\"<ipython-input-6-462222003ca3>\"\u001b[1;36m, line \u001b[1;32m3\u001b[0m\n\u001b[1;33m    print len(my_tuple)\u001b[0m\n\u001b[1;37m            ^\u001b[0m\n\u001b[1;31mSyntaxError\u001b[0m\u001b[1;31m:\u001b[0m invalid syntax\n"
     ]
    }
   ],
   "source": [
    "my_tuple = (1, 2, 3, 4) \n",
    "my_tuple.append( (5, 6, 7) ) \n",
    "print len(my_tuple)\n",
    "\n",
    "# Tuples are immutable and don’t have an append method as in case of Lists.Hence an error is thrown in this case."
   ]
  },
  {
   "cell_type": "code",
   "execution_count": 12,
   "metadata": {},
   "outputs": [
    {
     "ename": "TypeError",
     "evalue": "'>' not supported between instances of 'dict' and 'dict'",
     "output_type": "error",
     "traceback": [
      "\u001b[1;31m---------------------------------------------------------------------------\u001b[0m",
      "\u001b[1;31mTypeError\u001b[0m                                 Traceback (most recent call last)",
      "\u001b[1;32m<ipython-input-12-ace2e64c2b8d>\u001b[0m in \u001b[0;36m<module>\u001b[1;34m\u001b[0m\n\u001b[0;32m      1\u001b[0m \u001b[0md1\u001b[0m \u001b[1;33m=\u001b[0m \u001b[1;33m{\u001b[0m\u001b[1;34m\"john\"\u001b[0m\u001b[1;33m:\u001b[0m\u001b[1;36m40\u001b[0m\u001b[1;33m,\u001b[0m \u001b[1;34m\"peter\"\u001b[0m\u001b[1;33m:\u001b[0m\u001b[1;36m45\u001b[0m\u001b[1;33m}\u001b[0m\u001b[1;33m\u001b[0m\u001b[1;33m\u001b[0m\u001b[0m\n\u001b[0;32m      2\u001b[0m \u001b[0md2\u001b[0m \u001b[1;33m=\u001b[0m \u001b[1;33m{\u001b[0m\u001b[1;34m\"john\"\u001b[0m\u001b[1;33m:\u001b[0m\u001b[1;36m466\u001b[0m\u001b[1;33m,\u001b[0m \u001b[1;34m\"peter\"\u001b[0m\u001b[1;33m:\u001b[0m\u001b[1;36m45\u001b[0m\u001b[1;33m}\u001b[0m\u001b[1;33m\u001b[0m\u001b[1;33m\u001b[0m\u001b[0m\n\u001b[1;32m----> 3\u001b[1;33m \u001b[0mprint\u001b[0m \u001b[1;33m(\u001b[0m\u001b[0md1\u001b[0m \u001b[1;33m>\u001b[0m \u001b[0md2\u001b[0m\u001b[1;33m)\u001b[0m\u001b[1;33m\u001b[0m\u001b[1;33m\u001b[0m\u001b[0m\n\u001b[0m\u001b[0;32m      4\u001b[0m \u001b[1;33m\u001b[0m\u001b[0m\n\u001b[0;32m      5\u001b[0m \u001b[1;31m# Arithmetic operator less than ( < ) or greater than ( > ) can be used with dictionaries and\u001b[0m\u001b[1;33m\u001b[0m\u001b[1;33m\u001b[0m\u001b[1;33m\u001b[0m\u001b[0m\n",
      "\u001b[1;31mTypeError\u001b[0m: '>' not supported between instances of 'dict' and 'dict'"
     ]
    }
   ],
   "source": [
    "d1 = {\"john\":40, \"peter\":45} \n",
    "d2 = {\"john\":466, \"peter\":45} \n",
    "print (d1 > d2)\n",
    "\n",
    "# output : False\n",
    "\n",
    "# Arithmetic operator less than ( < ) or greater than ( > ) can be used with dictionaries and \n",
    "#each corresponding key with its values are compared"
   ]
  },
  {
   "cell_type": "code",
   "execution_count": 9,
   "metadata": {},
   "outputs": [
    {
     "name": "stdout",
     "output_type": "stream",
     "text": [
      "True\n"
     ]
    }
   ],
   "source": [
    "my_tuple = (6, 9, 0, 0) \n",
    "my_tuple1 = (5, 2, 3, 4) \n",
    "print (my_tuple > my_tuple1)"
   ]
  },
  {
   "cell_type": "code",
   "execution_count": null,
   "metadata": {},
   "outputs": [],
   "source": []
  },
  {
   "cell_type": "code",
   "execution_count": 13,
   "metadata": {},
   "outputs": [
    {
     "data": {
      "text/plain": [
       "['1', '2', '3', '4', '5', '6']"
      ]
     },
     "execution_count": 13,
     "metadata": {},
     "output_type": "execute_result"
    }
   ],
   "source": [
    "L = list('123456') \n",
    "L[0] = L[5] = 0\n",
    "L[3] = L[-2] \n",
    "print(L)"
   ]
  },
  {
   "cell_type": "code",
   "execution_count": null,
   "metadata": {},
   "outputs": [],
   "source": []
  },
  {
   "cell_type": "code",
   "execution_count": 16,
   "metadata": {},
   "outputs": [
    {
     "name": "stdout",
     "output_type": "stream",
     "text": [
      "('g', '*', '*', 'k', 's')\n"
     ]
    }
   ],
   "source": [
    "T = tuple('geeks') \n",
    "a, b, c, d, e = T \n",
    "b = c = '*'\n",
    "T = (a, b, c, d, e) \n",
    "print(T)\n",
    "\n",
    "#  A tuple is created as T = (‘g’, ‘e’, ‘e’, ‘k’, ‘s’), then it is unpacked into a, b, c, d and e,\n",
    "# mapping from ‘g’ to a and ‘s’ to e. b and c which are both ‘e’ are equal to ‘*’ and then\n",
    "# the existing tuple is replaced by packing a, b, c, d and e into a tupple T."
   ]
  },
  {
   "cell_type": "code",
   "execution_count": null,
   "metadata": {},
   "outputs": [],
   "source": []
  },
  {
   "cell_type": "code",
   "execution_count": 19,
   "metadata": {},
   "outputs": [
    {
     "name": "stdout",
     "output_type": "stream",
     "text": [
      "11\n"
     ]
    }
   ],
   "source": [
    "T = (2e-04, True, False, 8, 1.001, True) \n",
    "val = 0\n",
    "for x in T: \n",
    "    val += int(x) \n",
    "print(val)\n",
    "\n",
    "#Integer value of 2e-04(0.0002) is 0, True holds a value 1 and False a 0, integer value of 1.001 is 1. \n",
    "#Thus total 0 + 1 + 0 + 8 + 1 + 1 = 11"
   ]
  },
  {
   "cell_type": "code",
   "execution_count": null,
   "metadata": {},
   "outputs": [],
   "source": []
  },
  {
   "cell_type": "code",
   "execution_count": 20,
   "metadata": {},
   "outputs": [
    {
     "ename": "ValueError",
     "evalue": "invalid literal for int() with base 10: 'A'",
     "output_type": "error",
     "traceback": [
      "\u001b[1;31m---------------------------------------------------------------------------\u001b[0m",
      "\u001b[1;31mValueError\u001b[0m                                Traceback (most recent call last)",
      "\u001b[1;32m<ipython-input-20-533c9e2ea509>\u001b[0m in \u001b[0;36m<module>\u001b[1;34m\u001b[0m\n\u001b[0;32m      4\u001b[0m \u001b[0mcounter\u001b[0m \u001b[1;33m=\u001b[0m \u001b[1;36m0\u001b[0m\u001b[1;33m\u001b[0m\u001b[1;33m\u001b[0m\u001b[0m\n\u001b[0;32m      5\u001b[0m \u001b[1;32mfor\u001b[0m \u001b[0mx\u001b[0m \u001b[1;32min\u001b[0m \u001b[0mT\u001b[0m\u001b[1;33m:\u001b[0m\u001b[1;33m\u001b[0m\u001b[1;33m\u001b[0m\u001b[0m\n\u001b[1;32m----> 6\u001b[1;33m     \u001b[0mL\u001b[0m\u001b[1;33m[\u001b[0m\u001b[0mcounter\u001b[0m\u001b[1;33m]\u001b[0m \u001b[1;33m+=\u001b[0m \u001b[0mint\u001b[0m\u001b[1;33m(\u001b[0m\u001b[0mx\u001b[0m\u001b[1;33m)\u001b[0m\u001b[1;33m\u001b[0m\u001b[1;33m\u001b[0m\u001b[0m\n\u001b[0m\u001b[0;32m      7\u001b[0m     \u001b[0mcounter\u001b[0m \u001b[1;33m+=\u001b[0m \u001b[1;36m1\u001b[0m\u001b[1;33m\u001b[0m\u001b[1;33m\u001b[0m\u001b[0m\n\u001b[0;32m      8\u001b[0m     \u001b[1;32mbreak\u001b[0m\u001b[1;33m\u001b[0m\u001b[1;33m\u001b[0m\u001b[0m\n",
      "\u001b[1;31mValueError\u001b[0m: invalid literal for int() with base 10: 'A'"
     ]
    }
   ],
   "source": [
    "L = [3, 1, 2, 4] \n",
    "T = ('A', 'b', 'c', 'd') \n",
    "L.sort() \n",
    "counter = 0\n",
    "for x in T: \n",
    "    L[counter] += int(x) \n",
    "    counter += 1\n",
    "    break\n",
    "print(L)\n",
    "\n",
    "# After sort(L), L will be = [1, 2, 3, 4]. Counter = 0, L[0] i.e. 1, x = ‘A’, but Type Conversion of char ‘A’ to integer\n",
    "# will throw error and the value cannot be stored in L[0], thus a ValueError."
   ]
  },
  {
   "cell_type": "code",
   "execution_count": null,
   "metadata": {},
   "outputs": [],
   "source": []
  },
  {
   "cell_type": "code",
   "execution_count": 23,
   "metadata": {},
   "outputs": [
    {
     "name": "stdout",
     "output_type": "stream",
     "text": [
      "L*oo#frph#e|#wkhq1\n"
     ]
    }
   ],
   "source": [
    "line = \"I'll come by then.\"\n",
    "eline = \"\" \n",
    "for i in line: \n",
    "    eline += chr(ord(i)+3) \n",
    "print(eline)\n",
    "\n",
    "#  This piece of code ciphers the plain text. Each character is moved to its 3rd next character by increasing the ascii value.\n",
    "# ‘I’ becomes ‘L’, thus option (c) and (d) are ruled out. ‘ ‘ has ascii value of 32, thus it’ll become 35(‘#’),\n",
    "# thus option (a) is ruled out as, ‘ ‘ can not remain to be ‘ ‘ in the ciphered text."
   ]
  },
  {
   "cell_type": "code",
   "execution_count": 24,
   "metadata": {},
   "outputs": [
    {
     "name": "stdout",
     "output_type": "stream",
     "text": [
      "Wh t will h ve so will "
     ]
    }
   ],
   "source": [
    "line =  \"What will have so will\"\n",
    "L = line.split('a') \n",
    "for i in L: \n",
    "    print(i, end=' ') \n",
    "    \n",
    "# split() will use ‘a’ as the delimiter. It’ll create parition at ‘a’, thus split() return an array L,\n",
    "# which is in [‘Wh’, ‘t will h’, ‘ve so will’]. For loop will print the elements of the list.    "
   ]
  },
  {
   "cell_type": "code",
   "execution_count": null,
   "metadata": {},
   "outputs": [],
   "source": []
  },
  {
   "cell_type": "code",
   "execution_count": 27,
   "metadata": {},
   "outputs": [
    {
     "name": "stdout",
     "output_type": "stream",
     "text": [
      "False\n",
      "False\n"
     ]
    }
   ],
   "source": [
    "print(bool('False')) \n",
    "print(bool())\n",
    "\n",
    "#If the argument passed to the bool function does not amount to zero then the Boolean function returns true\n",
    "# else it always returns false. In the above code, in first line ‘False’ is passed to the function which is not amount to 0.\n",
    "# Therefore output is true. In the second line, an empty list is passed to the function bool. Hence the output is false."
   ]
  },
  {
   "cell_type": "code",
   "execution_count": 30,
   "metadata": {},
   "outputs": [
    {
     "name": "stdout",
     "output_type": "stream",
     "text": [
      "python\n"
     ]
    }
   ],
   "source": [
    "print(['love', 'python'][bool('gfg')])\n",
    "\n",
    "#  We can read the above code as print ‘love’ if the argument passed to the Boolean function is zero else print ‘python’.\n",
    "# The argument passed to the Boolean function in the above code is ‘gfg’, which does not amount to zero and\n",
    "# hence the output is: “python”."
   ]
  },
  {
   "cell_type": "code",
   "execution_count": 31,
   "metadata": {},
   "outputs": [
    {
     "name": "stdout",
     "output_type": "stream",
     "text": [
      "[5, 2, 'gfg']\n"
     ]
    }
   ],
   "source": [
    "mylist =[0, 5, 2, 0, 'gfg', '', []] \n",
    "print(list(filter(bool, mylist)))\n",
    "\n",
    "# The code above returns a new list containing only those elements of the list mylist which are not equal to zero.\n",
    "# Hence the output is: [5, 2, ‘gfg’]."
   ]
  },
  {
   "cell_type": "code",
   "execution_count": null,
   "metadata": {},
   "outputs": [],
   "source": []
  },
  {
   "cell_type": "code",
   "execution_count": 1,
   "metadata": {},
   "outputs": [
    {
     "name": "stdout",
     "output_type": "stream",
     "text": [
      "geeksforgeeks\n"
     ]
    }
   ],
   "source": [
    "my_string = 'geeksforgeeks'\n",
    "for i in range(len(my_string)): \n",
    "    my_string[i].upper() \n",
    "print (my_string) \n",
    "\n",
    "# Changes do not happen in-place, rather it will return a new instance of the string."
   ]
  },
  {
   "cell_type": "code",
   "execution_count": null,
   "metadata": {},
   "outputs": [],
   "source": []
  },
  {
   "cell_type": "code",
   "execution_count": 2,
   "metadata": {},
   "outputs": [
    {
     "ename": "TypeError",
     "evalue": "'str' object cannot be interpreted as an integer",
     "output_type": "error",
     "traceback": [
      "\u001b[1;31m---------------------------------------------------------------------------\u001b[0m",
      "\u001b[1;31mTypeError\u001b[0m                                 Traceback (most recent call last)",
      "\u001b[1;32m<ipython-input-2-de2ff2700cad>\u001b[0m in \u001b[0;36m<module>\u001b[1;34m\u001b[0m\n\u001b[0;32m      1\u001b[0m \u001b[0mmy_string\u001b[0m \u001b[1;33m=\u001b[0m \u001b[1;34m'geeksforgeeks'\u001b[0m\u001b[1;33m\u001b[0m\u001b[1;33m\u001b[0m\u001b[0m\n\u001b[1;32m----> 2\u001b[1;33m \u001b[1;32mfor\u001b[0m \u001b[0mi\u001b[0m \u001b[1;32min\u001b[0m \u001b[0mrange\u001b[0m\u001b[1;33m(\u001b[0m\u001b[0mmy_string\u001b[0m\u001b[1;33m)\u001b[0m\u001b[1;33m:\u001b[0m\u001b[1;33m\u001b[0m\u001b[1;33m\u001b[0m\u001b[0m\n\u001b[0m\u001b[0;32m      3\u001b[0m     \u001b[0mprint\u001b[0m\u001b[1;33m(\u001b[0m\u001b[0mi\u001b[0m\u001b[1;33m)\u001b[0m\u001b[1;33m\u001b[0m\u001b[1;33m\u001b[0m\u001b[0m\n",
      "\u001b[1;31mTypeError\u001b[0m: 'str' object cannot be interpreted as an integer"
     ]
    }
   ],
   "source": [
    "my_string = 'geeksforgeeks'\n",
    "for i in range(my_string): \n",
    "    print(i)\n",
    "    \n",
    "# Explanation: range(str) is not allowed.    "
   ]
  },
  {
   "cell_type": "code",
   "execution_count": null,
   "metadata": {},
   "outputs": [],
   "source": []
  },
  {
   "cell_type": "code",
   "execution_count": 4,
   "metadata": {},
   "outputs": [
    {
     "name": "stdout",
     "output_type": "stream",
     "text": [
      "None\n"
     ]
    }
   ],
   "source": [
    "set1 = {1, 2, 3} \n",
    "set2 = set1.add(4) \n",
    "print(set2)\n",
    "\n",
    "# add method doesn’t return anything. Hence there will be no output."
   ]
  },
  {
   "cell_type": "code",
   "execution_count": null,
   "metadata": {},
   "outputs": [],
   "source": []
  },
  {
   "cell_type": "code",
   "execution_count": 5,
   "metadata": {},
   "outputs": [
    {
     "ename": "TypeError",
     "evalue": "unsupported operand type(s) for +: 'set' and 'set'",
     "output_type": "error",
     "traceback": [
      "\u001b[1;31m---------------------------------------------------------------------------\u001b[0m",
      "\u001b[1;31mTypeError\u001b[0m                                 Traceback (most recent call last)",
      "\u001b[1;32m<ipython-input-5-4d6a276f5a55>\u001b[0m in \u001b[0;36m<module>\u001b[1;34m\u001b[0m\n\u001b[0;32m      1\u001b[0m \u001b[0mset1\u001b[0m \u001b[1;33m=\u001b[0m \u001b[1;33m{\u001b[0m\u001b[1;36m1\u001b[0m\u001b[1;33m,\u001b[0m \u001b[1;36m2\u001b[0m\u001b[1;33m,\u001b[0m \u001b[1;36m3\u001b[0m\u001b[1;33m}\u001b[0m\u001b[1;33m\u001b[0m\u001b[1;33m\u001b[0m\u001b[0m\n\u001b[0;32m      2\u001b[0m \u001b[0mset2\u001b[0m \u001b[1;33m=\u001b[0m \u001b[1;33m{\u001b[0m\u001b[1;36m4\u001b[0m\u001b[1;33m,\u001b[0m \u001b[1;36m5\u001b[0m\u001b[1;33m,\u001b[0m \u001b[1;36m6\u001b[0m\u001b[1;33m}\u001b[0m\u001b[1;33m\u001b[0m\u001b[1;33m\u001b[0m\u001b[0m\n\u001b[1;32m----> 3\u001b[1;33m \u001b[0mprint\u001b[0m\u001b[1;33m(\u001b[0m\u001b[0mlen\u001b[0m\u001b[1;33m(\u001b[0m\u001b[0mset1\u001b[0m \u001b[1;33m+\u001b[0m \u001b[0mset2\u001b[0m\u001b[1;33m)\u001b[0m\u001b[1;33m)\u001b[0m\u001b[1;33m\u001b[0m\u001b[1;33m\u001b[0m\u001b[0m\n\u001b[0m",
      "\u001b[1;31mTypeError\u001b[0m: unsupported operand type(s) for +: 'set' and 'set'"
     ]
    }
   ],
   "source": [
    "set1 = {1, 2, 3} \n",
    "set2 = {4, 5, 6} \n",
    "print(len(set1 + set2))\n",
    "\n",
    "# Explanation: unsupported operand type(s) for +: ‘set’ and ‘set’."
   ]
  },
  {
   "cell_type": "code",
   "execution_count": null,
   "metadata": {},
   "outputs": [],
   "source": []
  }
 ],
 "metadata": {
  "kernelspec": {
   "display_name": "Python 3",
   "language": "python",
   "name": "python3"
  },
  "language_info": {
   "codemirror_mode": {
    "name": "ipython",
    "version": 3
   },
   "file_extension": ".py",
   "mimetype": "text/x-python",
   "name": "python",
   "nbconvert_exporter": "python",
   "pygments_lexer": "ipython3",
   "version": "3.7.4"
  }
 },
 "nbformat": 4,
 "nbformat_minor": 2
}
